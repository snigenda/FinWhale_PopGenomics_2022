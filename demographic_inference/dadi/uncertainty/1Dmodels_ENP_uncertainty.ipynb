{
 "cells": [
  {
   "cell_type": "code",
   "execution_count": 1,
   "metadata": {},
   "outputs": [],
   "source": [
    "import matplotlib\n",
    "import scipy \n",
    "import sys\n",
    "import argparse\n",
    "import numpy\n",
    "import dadi\n",
    "from dadi import Numerics, PhiManip, Integration, Spectrum, Misc\n",
    "import dadi.Godambe"
   ]
  },
  {
   "cell_type": "code",
   "execution_count": 2,
   "metadata": {},
   "outputs": [],
   "source": [
    "fs= dadi.Spectrum.from_file(\"ENP-44.sfs\")\n",
    "ns = fs.sample_sizes # get sample size from SFS (in haploids)\n",
    "pts_l = [ns[0]+5,ns[0]+15,ns[0]+25] # this should be slightly larger (+5) than sample size and increase by 10\n",
    "maxiter= 100"
   ]
  },
  {
   "cell_type": "code",
   "execution_count": 5,
   "metadata": {},
   "outputs": [],
   "source": [
    "def bottleneck(params, ns, pts): \n",
    "    nuB,nuF,TB,TF = params\n",
    "    xx = Numerics.default_grid(pts) # sets up grid\n",
    "    phi = PhiManip.phi_1D(xx) # sets up initial phi for population \n",
    "    phi = Integration.one_pop(phi, xx, TB, nuB)  # bottleneck\n",
    "    phi = Integration.one_pop(phi, xx, TF, nuF) # recovery \n",
    "    fs = Spectrum.from_phi(phi, ns, (xx,)) \n",
    "    return fs\n",
    "param_names=(\"nuB\",\"nuF\",\"TB\",\"TF\")\n",
    "\n",
    "func=bottleneck \n",
    "func_ex = dadi.Numerics.make_extrap_log_func(func)"
   ]
  },
  {
   "cell_type": "markdown",
   "metadata": {},
   "source": [
    "  ## Run best model as p0"
   ]
  },
  {
   "cell_type": "code",
   "execution_count": 4,
   "metadata": {},
   "outputs": [],
   "source": [
    "popt = [1.4511,0.01848,0.134,6.07e-5] "
   ]
  },
  {
   "cell_type": "code",
   "execution_count": 5,
   "metadata": {},
   "outputs": [
    {
     "name": "stdout",
     "output_type": "stream",
     "text": [
      "4       , -187.427    , array([ 1.4511     ,  0.01848    ,  0.134134   ,  6.07e-05   ])\n",
      "8       , -96031.1    , array([ 0.595802   ,  0.0241561  ,  0.109243   ,  4.32916e-05])\n",
      "12      , -96039.1    , array([ 0.595802   ,  0.0241561  ,  0.109243   ,  4.33349e-05])\n",
      "16      , -187.423    , array([ 1.45085    ,  0.0184995  ,  0.133995   ,  6.0696e-05 ])\n",
      "20      , -187.42     , array([ 1.45109    ,  0.0184801  ,  0.134      ,  6.06998e-05])\n",
      "24      , -187.433    , array([ 1.45109    ,  0.0184801  ,  0.134      ,  6.07605e-05])\n",
      "28      , -187.41     , array([ 1.4511     ,  0.0184985  ,  0.134      ,  6.07e-05   ])\n",
      "32      , -187.419    , array([ 1.4511     ,  0.01848    ,  0.134      ,  6.07e-05   ])\n",
      "36      , -187.432    , array([ 1.4511     ,  0.01848    ,  0.134      ,  6.07607e-05])\n",
      "40      , -187.41     , array([ 1.4511     ,  0.0184985  ,  0.134      ,  6.07e-05   ])\n",
      "44      , -187.419    , array([ 1.4511     ,  0.01848    ,  0.134      ,  6.07e-05   ])\n",
      "48      , -187.432    , array([ 1.4511     ,  0.01848    ,  0.134      ,  6.07607e-05])\n",
      "52      , -187.41     , array([ 1.4511     ,  0.0184985  ,  0.134      ,  6.07e-05   ])\n",
      "56      , -187.419    , array([ 1.4511     ,  0.01848    ,  0.134      ,  6.07e-05   ])\n",
      "60      , -187.432    , array([ 1.4511     ,  0.01848    ,  0.134      ,  6.07607e-05])\n",
      "64      , -187.41     , array([ 1.4511     ,  0.0184985  ,  0.134      ,  6.07e-05   ])\n",
      "68      , -187.419    , array([ 1.4511     ,  0.01848    ,  0.134      ,  6.07e-05   ])\n",
      "72      , -187.432    , array([ 1.4511     ,  0.01848    ,  0.134      ,  6.07607e-05])\n",
      "76      , -187.41     , array([ 1.4511     ,  0.0184985  ,  0.134      ,  6.07e-05   ])\n",
      "80      , -187.419    , array([ 1.4511     ,  0.01848    ,  0.134      ,  6.07e-05   ])\n",
      "84      , -187.432    , array([ 1.4511     ,  0.01848    ,  0.134      ,  6.07607e-05])\n",
      "88      , -187.41     , array([ 1.4511     ,  0.0184985  ,  0.134      ,  6.07e-05   ])\n",
      "92      , -187.419    , array([ 1.4511     ,  0.01848    ,  0.134      ,  6.07e-05   ])\n",
      "96      , -187.432    , array([ 1.4511     ,  0.01848    ,  0.134      ,  6.07607e-05])\n",
      "100     , -187.41     , array([ 1.4511     ,  0.0184985  ,  0.134      ,  6.07e-05   ])\n",
      "104     , -187.419    , array([ 1.4511     ,  0.01848    ,  0.134      ,  6.07e-05   ])\n",
      "108     , -187.432    , array([ 1.4511     ,  0.01848    ,  0.134      ,  6.07607e-05])\n",
      "112     , -187.41     , array([ 1.4511     ,  0.0184985  ,  0.134      ,  6.07e-05   ])\n",
      "116     , -187.419    , array([ 1.4511     ,  0.01848    ,  0.134      ,  6.07e-05   ])\n",
      "120     , -187.432    , array([ 1.4511     ,  0.01848    ,  0.134      ,  6.07607e-05])\n",
      "124     , -187.41     , array([ 1.4511     ,  0.0184985  ,  0.134      ,  6.07e-05   ])\n",
      "128     , -187.419    , array([ 1.4511     ,  0.01848    ,  0.134      ,  6.07e-05   ])\n",
      "132     , -187.432    , array([ 1.4511     ,  0.01848    ,  0.134      ,  6.07607e-05])\n",
      "136     , -187.41     , array([ 1.4511     ,  0.0184985  ,  0.134      ,  6.07e-05   ])\n",
      "140     , -187.419    , array([ 1.4511     ,  0.01848    ,  0.134      ,  6.07e-05   ])\n",
      "144     , -187.432    , array([ 1.4511     ,  0.01848    ,  0.134      ,  6.07607e-05])\n",
      "148     , -187.41     , array([ 1.4511     ,  0.0184985  ,  0.134      ,  6.07e-05   ])\n",
      "152     , -187.419    , array([ 1.4511     ,  0.01848    ,  0.134      ,  6.07e-05   ])\n",
      "156     , -187.432    , array([ 1.4511     ,  0.01848    ,  0.134      ,  6.07607e-05])\n",
      "160     , -187.41     , array([ 1.4511     ,  0.0184985  ,  0.134      ,  6.07e-05   ])\n",
      "164     , -187.419    , array([ 1.4511     ,  0.01848    ,  0.134      ,  6.07e-05   ])\n",
      "168     , -187.432    , array([ 1.4511     ,  0.01848    ,  0.134      ,  6.07607e-05])\n",
      "172     , -187.41     , array([ 1.4511     ,  0.0184985  ,  0.134      ,  6.07e-05   ])\n",
      "176     , -187.419    , array([ 1.4511     ,  0.01848    ,  0.134      ,  6.07e-05   ])\n",
      "180     , -187.432    , array([ 1.4511     ,  0.01848    ,  0.134      ,  6.07607e-05])\n",
      "184     , -187.41     , array([ 1.4511     ,  0.0184985  ,  0.134      ,  6.07e-05   ])\n",
      "188     , -187.419    , array([ 1.4511     ,  0.01848    ,  0.134      ,  6.07e-05   ])\n",
      "192     , -187.432    , array([ 1.4511     ,  0.01848    ,  0.134      ,  6.07607e-05])\n",
      "196     , -187.41     , array([ 1.4511     ,  0.0184985  ,  0.134      ,  6.07e-05   ])\n",
      "200     , -187.419    , array([ 1.4511     ,  0.01848    ,  0.134      ,  6.07e-05   ])\n",
      "204     , -187.432    , array([ 1.4511     ,  0.01848    ,  0.134      ,  6.07607e-05])\n",
      "208     , -187.41     , array([ 1.4511     ,  0.0184985  ,  0.134      ,  6.07e-05   ])\n",
      "212     , -187.419    , array([ 1.4511     ,  0.01848    ,  0.134      ,  6.07e-05   ])\n",
      "216     , -187.432    , array([ 1.4511     ,  0.01848    ,  0.134      ,  6.07607e-05])\n",
      "220     , -187.41     , array([ 1.4511     ,  0.0184985  ,  0.134      ,  6.07e-05   ])\n",
      "224     , -187.419    , array([ 1.4511     ,  0.01848    ,  0.134      ,  6.07e-05   ])\n",
      "228     , -187.432    , array([ 1.4511     ,  0.01848    ,  0.134      ,  6.07607e-05])\n",
      "232     , -187.41     , array([ 1.4511     ,  0.0184985  ,  0.134      ,  6.07e-05   ])\n",
      "236     , -187.419    , array([ 1.4511     ,  0.01848    ,  0.134      ,  6.07e-05   ])\n",
      "240     , -187.432    , array([ 1.4511     ,  0.01848    ,  0.134      ,  6.07607e-05])\n",
      "244     , -187.41     , array([ 1.4511     ,  0.0184985  ,  0.134      ,  6.07e-05   ])\n",
      "248     , -187.419    , array([ 1.4511     ,  0.01848    ,  0.134      ,  6.07e-05   ])\n",
      "252     , -187.432    , array([ 1.4511     ,  0.01848    ,  0.134      ,  6.07607e-05])\n",
      "256     , -187.41     , array([ 1.4511     ,  0.0184985  ,  0.134      ,  6.07e-05   ])\n",
      "260     , -187.419    , array([ 1.4511     ,  0.01848    ,  0.134      ,  6.07e-05   ])\n",
      "264     , -187.432    , array([ 1.4511     ,  0.01848    ,  0.134      ,  6.07607e-05])\n",
      "268     , -187.41     , array([ 1.4511     ,  0.0184985  ,  0.134      ,  6.07e-05   ])\n",
      "272     , -187.419    , array([ 1.4511     ,  0.01848    ,  0.134      ,  6.07e-05   ])\n",
      "276     , -187.432    , array([ 1.4511     ,  0.01848    ,  0.134      ,  6.07607e-05])\n",
      "280     , -187.41     , array([ 1.4511     ,  0.0184985  ,  0.134      ,  6.07e-05   ])\n",
      "284     , -187.419    , array([ 1.4511     ,  0.01848    ,  0.134      ,  6.07e-05   ])\n",
      "288     , -187.432    , array([ 1.4511     ,  0.01848    ,  0.134      ,  6.07607e-05])\n",
      "292     , -187.41     , array([ 1.4511     ,  0.0184985  ,  0.134      ,  6.07e-05   ])\n",
      "296     , -187.419    , array([ 1.4511     ,  0.01848    ,  0.134      ,  6.07e-05   ])\n",
      "300     , -187.432    , array([ 1.4511     ,  0.01848    ,  0.134      ,  6.07607e-05])\n",
      "304     , -187.41     , array([ 1.4511     ,  0.0184985  ,  0.134      ,  6.07e-05   ])\n",
      "308     , -187.419    , array([ 1.4511     ,  0.01848    ,  0.134      ,  6.07e-05   ])\n",
      "312     , -187.432    , array([ 1.4511     ,  0.01848    ,  0.134      ,  6.07607e-05])\n",
      "316     , -187.41     , array([ 1.4511     ,  0.0184985  ,  0.134      ,  6.07e-05   ])\n",
      "320     , -187.419    , array([ 1.4511     ,  0.01848    ,  0.134      ,  6.07e-05   ])\n",
      "324     , -187.432    , array([ 1.4511     ,  0.01848    ,  0.134      ,  6.07607e-05])\n",
      "328     , -187.41     , array([ 1.4511     ,  0.0184985  ,  0.134      ,  6.07e-05   ])\n",
      "332     , -187.419    , array([ 1.4511     ,  0.01848    ,  0.134      ,  6.07e-05   ])\n",
      "336     , -187.432    , array([ 1.4511     ,  0.01848    ,  0.134      ,  6.07607e-05])\n",
      "340     , -187.41     , array([ 1.4511     ,  0.0184985  ,  0.134      ,  6.07e-05   ])\n",
      "344     , -187.419    , array([ 1.4511     ,  0.01848    ,  0.134      ,  6.07e-05   ])\n",
      "348     , -187.432    , array([ 1.4511     ,  0.01848    ,  0.134      ,  6.07607e-05])\n",
      "352     , -187.41     , array([ 1.4511     ,  0.0184985  ,  0.134      ,  6.07e-05   ])\n",
      "356     , -187.419    , array([ 1.4511     ,  0.01848    ,  0.134      ,  6.07e-05   ])\n",
      "360     , -187.432    , array([ 1.4511     ,  0.01848    ,  0.134      ,  6.07607e-05])\n",
      "364     , -187.41     , array([ 1.4511     ,  0.0184985  ,  0.134      ,  6.07e-05   ])\n",
      "368     , -187.419    , array([ 1.4511     ,  0.01848    ,  0.134      ,  6.07e-05   ])\n",
      "372     , -187.432    , array([ 1.4511     ,  0.01848    ,  0.134      ,  6.07607e-05])\n",
      "376     , -187.41     , array([ 1.4511     ,  0.0184985  ,  0.134      ,  6.07e-05   ])\n",
      "380     , -187.419    , array([ 1.4511     ,  0.01848    ,  0.134      ,  6.07e-05   ])\n",
      "384     , -187.432    , array([ 1.4511     ,  0.01848    ,  0.134      ,  6.07607e-05])\n",
      "388     , -187.41     , array([ 1.4511     ,  0.0184985  ,  0.134      ,  6.07e-05   ])\n"
     ]
    },
    {
     "name": "stdout",
     "output_type": "stream",
     "text": [
      "392     , -187.419    , array([ 1.4511     ,  0.01848    ,  0.134      ,  6.07e-05   ])\n",
      "396     , -187.432    , array([ 1.4511     ,  0.01848    ,  0.134      ,  6.07607e-05])\n",
      "400     , -187.41     , array([ 1.4511     ,  0.0184985  ,  0.134      ,  6.07e-05   ])\n",
      "404     , -187.419    , array([ 1.4511     ,  0.01848    ,  0.134      ,  6.07e-05   ])\n",
      "408     , -187.432    , array([ 1.4511     ,  0.01848    ,  0.134      ,  6.07607e-05])\n",
      "412     , -187.41     , array([ 1.4511     ,  0.0184985  ,  0.134      ,  6.07e-05   ])\n",
      "416     , -187.419    , array([ 1.4511     ,  0.01848    ,  0.134      ,  6.07e-05   ])\n",
      "420     , -187.432    , array([ 1.4511     ,  0.01848    ,  0.134      ,  6.07607e-05])\n",
      "424     , -187.41     , array([ 1.4511     ,  0.0184985  ,  0.134      ,  6.07e-05   ])\n",
      "428     , -187.419    , array([ 1.4511     ,  0.01848    ,  0.134      ,  6.07e-05   ])\n",
      "432     , -187.432    , array([ 1.4511     ,  0.01848    ,  0.134      ,  6.07607e-05])\n",
      "436     , -1574.64    , array([ 1.29829    ,  0.0191092  ,  0.130622   ,  5.8189e-05 ])\n",
      "440     , -193.214    , array([ 1.44104    ,  0.0185187  ,  0.133786   ,  6.05399e-05])\n",
      "444     , -187.473    , array([ 1.45047    ,  0.0184824  ,  0.133987   ,  6.069e-05  ])\n",
      "Best-fit parameters: [1.4511e+00 1.8480e-02 1.3400e-01 6.0700e-05]\n",
      "Maximum log composite likelihood: -187.4194806170417\n",
      "Optimal value of theta: 717086.284839984\n"
     ]
    },
    {
     "data": {
      "image/png": "[encoded data removed]",
      "text/plain": [
       "<Figure size 432x288 with 2 Axes>"
      ]
     },
     "metadata": {
      "needs_background": "light"
     },
     "output_type": "display_data"
    }
   ],
   "source": [
    "popt_log = dadi.Inference.optimize_log(popt, fs, func_ex, pts_l, \n",
    "                                   verbose=len(popt), maxiter=maxiter)\n",
    "print('Best-fit parameters: {0}'.format(popt_log))\n",
    "\n",
    "model = func_ex(popt_log, ns, pts_l)\n",
    "\n",
    "ll_model = dadi.Inference.ll_multinom(model, fs)\n",
    "print('Maximum log composite likelihood: {0}'.format(ll_model))\n",
    "\n",
    "theta = dadi.Inference.optimal_sfs_scaling(model, fs)\n",
    "print('Optimal value of theta: {0}'.format(theta))\n",
    "\n",
    "# Plot a comparison of the resulting fs with the data.\n",
    "dadi.Plotting.plot_1d_comp_multinom(model, fs)"
   ]
  },
  {
   "cell_type": "code",
   "execution_count": 37,
   "metadata": {
    "scrolled": true
   },
   "outputs": [
    {
     "name": "stdout",
     "output_type": "stream",
     "text": [
      "1596    , -214.839    , array([ 1.4511     ,  0.01848    ,  0.121188   ,  6.07e-05   ])\n",
      "1600    , -332.708    , array([ 1.46638    ,  0.0222818  ,  0.126635   ,  5.37624e-05])\n",
      "1604    , -246.93     , array([ 1.42893    ,  0.0173324  ,  0.125239   ,  5.61592e-05])\n",
      "1608    , -207.477    , array([ 1.45631    ,  0.0176997  ,  0.130919   ,  6.63724e-05])\n",
      "1612    , -192.551    , array([ 1.45717    ,  0.0173736  ,  0.137945   ,  5.82229e-05])\n",
      "1616    , -189.007    , array([ 1.45649    ,  0.0176452  ,  0.135114   ,  5.84962e-05])\n",
      "1620    , -187.831    , array([ 1.45731    ,  0.0178952  ,  0.132714   ,  5.94243e-05])\n",
      "1624    , -189.072    , array([ 1.44983    ,  0.0179745  ,  0.132918   ,  6.01128e-05])\n",
      "1628    , -187.438    , array([ 1.45452    ,  0.0176768  ,  0.13286    ,  5.9098e-05 ])\n",
      "1632    , -187.42     , array([ 1.45377    ,  0.0179373  ,  0.133177   ,  5.91012e-05])\n",
      "1636    , -187.393    , array([ 1.45401    ,  0.01788    ,  0.133031   ,  5.94208e-05])\n",
      "1640    , -187.383    , array([ 1.45323    ,  0.0180344  ,  0.133266   ,  5.94823e-05])\n",
      "1644    , -187.387    , array([ 1.45326    ,  0.0180478  ,  0.133109   ,  5.96461e-05])\n",
      "1648    , -187.381    , array([ 1.45284    ,  0.0181288  ,  0.133288   ,  5.97743e-05])\n",
      "1652    , -187.385    , array([ 1.45386    ,  0.0179145  ,  0.133094   ,  5.93996e-05])\n",
      "1656    , -187.381    , array([ 1.45164    ,  0.0182532  ,  0.133701   ,  5.9871e-05 ])\n",
      "1660    , -187.376    , array([ 1.45207    ,  0.018223   ,  0.13357    ,  5.98711e-05])\n",
      "1664    , -187.377    , array([ 1.45192    ,  0.0181984  ,  0.133552   ,  5.97035e-05])\n",
      "1668    , -187.376    , array([ 1.45218    ,  0.0181745  ,  0.133535   ,  5.96976e-05])\n",
      "1672    , -187.377    , array([ 1.45211    ,  0.0181622  ,  0.133536   ,  5.96887e-05])\n",
      "1676    , -187.376    , array([ 1.45218    ,  0.0182147  ,  0.13359    ,  5.98559e-05])\n",
      "1680    , -187.376    , array([ 1.45215    ,  0.0181687  ,  0.133578   ,  5.96613e-05])\n",
      "1684    , -187.376    , array([ 1.45205    ,  0.0181969  ,  0.133581   ,  5.97453e-05])\n",
      "1688    , -187.376    , array([ 1.45204    ,  0.0181814  ,  0.133595   ,  5.97061e-05])\n",
      "1692    , -187.376    , array([ 1.45206    ,  0.0181744  ,  0.133574   ,  5.96772e-05])\n",
      "1696    , -187.376    , array([ 1.45203    ,  0.0181861  ,  0.133583   ,  5.9718e-05 ])\n",
      "1700    , -187.376    , array([ 1.45212    ,  0.0181706  ,  0.133584   ,  5.96931e-05])\n",
      "1704    , -187.375    , array([ 1.45208    ,  0.0181659  ,  0.133589   ,  5.96556e-05])\n",
      "1708    , -187.375    , array([ 1.45212    ,  0.018136   ,  0.133585   ,  5.95752e-05])\n",
      "1712    , -187.375    , array([ 1.45213    ,  0.0180421  ,  0.133588   ,  5.92706e-05])\n",
      "1716    , -187.374    , array([ 1.45205    ,  0.0179654  ,  0.13359    ,  5.89645e-05])\n",
      "1720    , -187.374    , array([ 1.45197    ,  0.0178057  ,  0.133596   ,  5.84072e-05])\n",
      "1724    , -187.372    , array([ 1.452      ,  0.0174538  ,  0.133601   ,  5.72385e-05])\n",
      "1728    , -187.369    , array([ 1.45197    ,  0.0168777  ,  0.133594   ,  5.53023e-05])\n",
      "1732    , -187.367    , array([ 1.45185    ,  0.0161285  ,  0.13361    ,  5.27642e-05])\n",
      "1736    , -187.358    , array([ 1.4519     ,  0.0146843  ,  0.133615   ,  4.80016e-05])\n",
      "1740    , -187.353    , array([ 1.45179    ,  0.0124886  ,  0.133624   ,  4.06667e-05])\n",
      "1744    , -187.35     , array([ 1.45193    ,  0.00964736 ,  0.133665   ,  3.13303e-05])\n",
      "1748    , -187.337    , array([ 1.45216    ,  0.0097939  ,  0.133688   ,  3.19297e-05])\n",
      "1752    , -187.34     , array([ 1.45264    ,  0.00842993 ,  0.133753   ,  2.75617e-05])\n",
      "1756    , -187.337    , array([ 1.45249    ,  0.00748375 ,  0.133752   ,  2.43938e-05])\n",
      "Best-fit parameters: [1.45219414e+00 7.71482871e-03 1.33734902e-01 2.51049787e-05]\n",
      "Maximum log composite likelihood: -187.3322632498457\n",
      "Optimal value of theta: 717033.0569217555\n"
     ]
    },
    {
     "data": {
      "image/png": "[encoded data removed]",
      "text/plain": [
       "<Figure size 432x288 with 2 Axes>"
      ]
     },
     "metadata": {
      "needs_background": "light"
     },
     "output_type": "display_data"
    }
   ],
   "source": [
    "popt = [1.4511,0.01848,0.134,6.07e-5] \n",
    "popt_log_fmin = dadi.Inference.optimize_log_fmin(popt, fs, func_ex, pts_l, \n",
    "                                   verbose=len(popt), maxiter=maxiter)\n",
    "print('Best-fit parameters: {0}'.format(popt_log_fmin))\n",
    "\n",
    "model = func_ex(popt_log_fmin, ns, pts_l)\n",
    "\n",
    "ll_model = dadi.Inference.ll_multinom(model, fs)\n",
    "print('Maximum log composite likelihood: {0}'.format(ll_model))\n",
    "\n",
    "theta = dadi.Inference.optimal_sfs_scaling(model, fs)\n",
    "print('Optimal value of theta: {0}'.format(theta))\n",
    "\n",
    "# Plot a comparison of the resulting fs with the data.\n",
    "dadi.Plotting.plot_1d_comp_multinom(model, fs)"
   ]
  },
  {
   "cell_type": "markdown",
   "metadata": {},
   "source": [
    "## Uncertainty analysis"
   ]
  },
  {
   "cell_type": "code",
   "execution_count": 4,
   "metadata": {},
   "outputs": [
    {
     "name": "stdout",
     "output_type": "stream",
     "text": [
      "Estimated parameter standard deviations from FIM: [3.81438485e-03 1.86242955e-05 2.32216104e-03            nan\n",
      " 7.27021495e+02]\n"
     ]
    }
   ],
   "source": [
    "# nuB, nuF, TB, TF\n",
    "popt = [1.450701165,0.018399839,0.134097375,6.00E-05] \n",
    "uncerts_fim = dadi.Godambe.FIM_uncert(func_ex, pts_l, popt, fs, multinom=True)\n",
    "print('Estimated parameter standard deviations from FIM: {0}'.format(uncerts_fim))"
   ]
  },
  {
   "cell_type": "code",
   "execution_count": 5,
   "metadata": {},
   "outputs": [
    {
     "data": {
      "text/plain": [
       "array([0.00092623, 0.39878755, 0.02137593, 0.43029193, 0.00128751])"
      ]
     },
     "execution_count": 5,
     "metadata": {},
     "output_type": "execute_result"
    }
   ],
   "source": [
    "dadi.Godambe.FIM_uncert(func_ex, pts_l, popt, fs, multinom=True, log=True)"
   ]
  },
  {
   "cell_type": "code",
   "execution_count": 3,
   "metadata": {},
   "outputs": [],
   "source": [
    "#Bootstraping\n",
    "datafile = './bootstrap/SNPs_for_SFS_ENP.vcf.gz'\n",
    "dd = dadi.Misc.make_data_dict_vcf(datafile, './bootstrap/ENP_samples.txt')\n"
   ]
  },
  {
   "cell_type": "code",
   "execution_count": 4,
   "metadata": {},
   "outputs": [],
   "source": [
    "# Generate 100 bootstrap datasets, by dividing the genome into 2 Mb chunks and\n",
    "# resampling from those chunks.\n",
    "Nboot, chunk_size = 100, 2e6\n",
    "chunks = dadi.Misc.fragment_data_dict(dd, chunk_size)"
   ]
  },
  {
   "cell_type": "code",
   "execution_count": 5,
   "metadata": {},
   "outputs": [],
   "source": [
    "pop_ids, ns = ['ENP'], [44]\n",
    "boots = dadi.Misc.bootstraps_from_dd_chunks(chunks, Nboot, pop_ids, ns, polarized=False)"
   ]
  },
  {
   "cell_type": "code",
   "execution_count": 9,
   "metadata": {},
   "outputs": [
    {
     "data": {
      "text/plain": [
       "[Spectrum([-- 858762.5058849135 432721.5450377115 277230.74541476904\n",
       "  203222.74970283135 163541.40415617553 138612.62428258432\n",
       "  121131.16663870776 107980.3803279301 98083.80722874167 90028.2769467319\n",
       "  83937.32089945719 78812.47109434611 74467.2436374194 71177.05203892894\n",
       "  68972.89804192289 67054.04706595792 65205.9260438828 63750.13484799378\n",
       "  62507.944761481085 61408.21796783471 60756.4176995956 30282.249843814603\n",
       "  -- -- -- -- -- -- -- -- -- -- -- -- -- -- -- -- -- -- -- -- -- --], folded=True, pop_ids=['ENP']),\n",
       " Spectrum([-- 914040.2894748626 460356.8381693644 297199.78093108826\n",
       "  219320.70664628842 176763.72107128552 150350.3025991254\n",
       "  130996.10121108474 116717.62501390159 105790.64961069362\n",
       "  97879.27360950278 91523.94585086739 85909.18425500715 81006.92815676572\n",
       "  76999.96609898383 74295.24560734695 72336.71933737893 70732.48088888389\n",
       "  69345.87938403357 68203.31744733786 67516.368761553 67158.14207504844\n",
       "  33528.42075680975 -- -- -- -- -- -- -- -- -- -- -- -- -- -- -- -- -- --\n",
       "  -- -- -- --], folded=True, pop_ids=['ENP']),\n",
       " Spectrum([-- 904962.7055214435 458453.4094623344 295254.1432932361\n",
       "  219075.3504458146 175454.64616392076 147856.9563282445 129435.13219194961\n",
       "  115820.85015569691 105211.05250762202 97060.96754206145 90419.3973317523\n",
       "  85010.36376811584 80674.09982503945 77238.57685141139 74688.20852044183\n",
       "  72642.39774838618 71295.32022953275 69999.22070878833 68437.47505339011\n",
       "  66851.6559815605 65740.90397475501 32651.982934824307 -- -- -- -- -- --\n",
       "  -- -- -- -- -- -- -- -- -- -- -- -- -- -- -- --], folded=True, pop_ids=['ENP']),\n",
       " Spectrum([-- 897888.2578742183 453429.24095385626 293007.13900500204\n",
       "  215984.70083412726 173209.98394184568 146738.1993693537\n",
       "  127668.73216489711 114116.6843622304 104459.4905577185 96682.76054378474\n",
       "  90525.29064042919 85270.10348317951 81076.4779231679 77494.88580607758\n",
       "  74752.60777056195 72854.33060088725 71237.89638115137 70126.4840621919\n",
       "  69084.26831405866 68290.70668822988 67722.33513305472 33758.649871578964\n",
       "  -- -- -- -- -- -- -- -- -- -- -- -- -- -- -- -- -- -- -- -- -- --], folded=True, pop_ids=['ENP']),\n",
       " Spectrum([-- 897152.2192142453 451602.0573634182 290648.00383922475\n",
       "  213417.63308361144 170940.0374801625 144451.00264258907\n",
       "  126094.41099608356 113017.10311523221 102713.19794156619\n",
       "  94117.58821802208 87647.92416677585 82682.29391139897 78806.3773659484\n",
       "  75775.92638842671 73532.20032982048 71506.0963995783 69346.13120288063\n",
       "  67511.70031461118 66201.89027077261 65367.19389437599 65008.15379901628\n",
       "  32457.10524732754 -- -- -- -- -- -- -- -- -- -- -- -- -- -- -- -- -- --\n",
       "  -- -- -- --], folded=True, pop_ids=['ENP']),\n",
       " Spectrum([-- 871009.1525958263 439634.14634486364 283857.09211542987\n",
       "  209298.82445546606 167868.6118616512 142286.3285245707 123966.44908931504\n",
       "  111006.49430808688 101175.63597683882 93075.42745625768 86739.92628199323\n",
       "  81569.16597916481 77469.45112344601 73951.4892806574 71366.20036302783\n",
       "  69323.66731070317 67659.29408980756 66311.45957927579 65292.64064696334\n",
       "  64468.667369310875 63789.20854450259 31793.19476008698 -- -- -- -- -- --\n",
       "  -- -- -- -- -- -- -- -- -- -- -- -- -- -- -- --], folded=True, pop_ids=['ENP']),\n",
       " Spectrum([-- 880186.7877676004 446336.7579663519 287777.97096976545\n",
       "  212149.92818148044 170769.99919953686 144796.32906638703 126429.018651654\n",
       "  113097.02360742875 103082.9560827456 94888.78504023876 88485.87998014486\n",
       "  83471.64391622605 79360.98909069272 76043.78735600931 73433.37302207138\n",
       "  70957.9434879763 68886.15446192307 67510.8134389665 66430.11875590535\n",
       "  65366.02682996437 64671.89032181743 32308.72234934298 -- -- -- -- -- --\n",
       "  -- -- -- -- -- -- -- -- -- -- -- -- -- -- -- --], folded=True, pop_ids=['ENP']),\n",
       " Spectrum([-- 904625.5560962908 455797.855599404 295441.8345010396\n",
       "  218065.93573458248 172995.28340055305 145800.86415158142\n",
       "  126940.45653557572 113842.38655900679 104091.1796537602 96531.59877971286\n",
       "  90827.85654735214 85980.54856487739 81072.09902130712 76684.48926686926\n",
       "  73762.94375579951 71727.1387106876 70003.06873473561 68581.99371911967\n",
       "  67634.18001260338 66849.23013617117 66263.52555812127 33022.009317779426\n",
       "  -- -- -- -- -- -- -- -- -- -- -- -- -- -- -- -- -- -- -- -- -- --], folded=True, pop_ids=['ENP']),\n",
       " Spectrum([-- 913588.4193353547 458356.3161621366 296269.7792680106\n",
       "  215999.3111222098 172332.46963233926 146244.62498341769\n",
       "  127573.84589650355 114074.76513698125 104323.39256049805\n",
       "  96515.88686901385 90203.35892506418 84549.55433290881 79832.5085839566\n",
       "  76255.95986694975 74169.52711433677 72365.9633961394 70581.49320329176\n",
       "  69118.38100640611 67989.06480297178 66986.96424277985 66264.02556552037\n",
       "  32984.667426107786 -- -- -- -- -- -- -- -- -- -- -- -- -- -- -- -- -- --\n",
       "  -- -- -- --], folded=True, pop_ids=['ENP']),\n",
       " Spectrum([-- 883100.7728178733 444324.7035908138 287459.0909472071\n",
       "  212979.39231437357 171316.50972416048 144575.03308708547\n",
       "  125619.77159145857 112668.12735283731 103252.58848423162\n",
       "  95533.23158784454 88869.70306241729 83157.22958905682 78767.79700621178\n",
       "  75707.96165922754 73609.98605135469 71889.36577160003 70345.2429280446\n",
       "  68993.34455699672 67399.73744885295 65891.55707245803 65072.568008007154\n",
       "  32467.241775563896 -- -- -- -- -- -- -- -- -- -- -- -- -- -- -- -- -- --\n",
       "  -- -- -- --], folded=True, pop_ids=['ENP']),\n",
       " Spectrum([-- 896961.5378242914 450094.8090057773 292618.8048221758\n",
       "  216912.56943324217 173668.83563011038 146391.37531656117\n",
       "  127269.81541919606 113667.29788445447 103999.08175426334\n",
       "  96275.48475565983 90322.36807157041 85090.87765658258 80922.1230927168\n",
       "  77693.71990993457 75784.45462911077 73958.44942540566 71908.30915024213\n",
       "  69985.14982089328 68003.8982402269 66614.82137130367 65801.85878879843\n",
       "  32849.10922657739 -- -- -- -- -- -- -- -- -- -- -- -- -- -- -- -- -- --\n",
       "  -- -- -- --], folded=True, pop_ids=['ENP']),\n",
       " Spectrum([-- 866863.8589380593 438285.4383377744 281758.72965140396\n",
       "  206383.87295504136 163276.76708328875 138218.31542210645\n",
       "  120575.04374285939 107910.41005431296 98573.1279285187 91018.80587601538\n",
       "  84980.0467316628 80069.44535974065 75839.99798877188 72242.05764440024\n",
       "  69506.63800822732 67376.22317844984 65743.82195291661 64430.60892512917\n",
       "  63620.416746020455 63070.036802517265 62836.17948242731\n",
       "  31370.088620277955 -- -- -- -- -- -- -- -- -- -- -- -- -- -- -- -- -- --\n",
       "  -- -- -- --], folded=True, pop_ids=['ENP']),\n",
       " Spectrum([-- 869386.7335742161 437909.483098701 280896.54282314435 206948.594282591\n",
       "  165121.5533419777 139234.92179722182 121461.12165322882\n",
       "  108522.10343324149 98636.92633130877 91145.2460084379 85598.53218058539\n",
       "  80889.79521033606 76834.77925420387 73274.62450393179 70970.39532771321\n",
       "  69063.11705302978 67428.33629535566 66156.462968581 64987.06737945232\n",
       "  63745.64557070189 62867.782271074655 31295.952827794255 -- -- -- -- -- --\n",
       "  -- -- -- -- -- -- -- -- -- -- -- -- -- -- -- --], folded=True, pop_ids=['ENP']),\n",
       " Spectrum([-- 870651.676064081 439608.3930194649 283150.7665716662\n",
       "  209630.59228344538 168569.68286354077 142627.96205598972\n",
       "  124780.71961606413 111573.37095921942 101762.16420806479\n",
       "  94076.24273369601 88005.35056542902 82772.58922092947 78466.76057154397\n",
       "  75221.04452200174 72809.32685467823 70697.25547776978 68798.66219817339\n",
       "  67321.94231272522 66039.43068266152 64796.06106616638 63857.6757450963\n",
       "  31790.67499344892 -- -- -- -- -- -- -- -- -- -- -- -- -- -- -- -- -- --\n",
       "  -- -- -- --], folded=True, pop_ids=['ENP']),\n",
       " Spectrum([-- 891353.6059464908 451149.46570325707 290633.89314104995\n",
       "  215112.07472394418 172057.54040509203 145954.26887988087\n",
       "  127608.12068568394 113375.79652781556 102305.30699118042\n",
       "  94137.24278608806 88074.32576477782 83030.69409855988 78596.14882781896\n",
       "  74862.69600184237 72266.00551632549 70640.31359561627 69408.07152947994\n",
       "  68239.76553130755 67039.52010200819 65911.34877440339 65230.54860589939\n",
       "  32543.780402785087 -- -- -- -- -- -- -- -- -- -- -- -- -- -- -- -- -- --\n",
       "  -- -- -- --], folded=True, pop_ids=['ENP']),\n",
       " Spectrum([-- 876760.2400151418 441150.9675091707 285635.2501582287\n",
       "  210407.71398662255 168542.584053645 141870.3372689703 122637.98791487282\n",
       "  109079.57207832196 98764.42873142184 90769.50223245978 84818.62977631098\n",
       "  79868.1802513601 75998.64647389064 73037.50541672556 71040.63882156614\n",
       "  69108.43269867118 67451.63404187607 66472.72464969852 65634.66858938527\n",
       "  64810.44102798584 64300.843973488445 32062.96356507453 -- -- -- -- -- --\n",
       "  -- -- -- -- -- -- -- -- -- -- -- -- -- -- -- --], folded=True, pop_ids=['ENP']),\n",
       " Spectrum([-- 874901.4076501193 442506.2141283653 284308.93887059577\n",
       "  209262.5541419153 168289.2149336818 142864.770652651 124947.70424242665\n",
       "  112022.7152600209 102226.14317415157 94487.9520088455 88007.61469950133\n",
       "  82256.29590174713 77459.17076852304 73952.48294126782 71836.99987604983\n",
       "  70238.02951780545 68898.52591379438 67522.54563672673 66365.07050149611\n",
       "  65428.52905285005 64704.828856357344 32175.588384321145 -- -- -- -- -- --\n",
       "  -- -- -- -- -- -- -- -- -- -- -- -- -- -- -- --], folded=True, pop_ids=['ENP']),\n",
       " Spectrum([-- 908003.1090500519 456742.8030282028 294212.91209563374\n",
       "  217810.9374235069 174178.2173811185 146870.25995435286 127613.78486301277\n",
       "  114168.69715188206 103998.34011855694 95687.6751808322 89466.08787282805\n",
       "  84722.23110946926 80387.80072147155 76740.14952404665 74356.81957658162\n",
       "  72405.0237627533 70748.85871022298 69338.65352716082 68007.86918288721\n",
       "  66687.14259111478 65795.36947069735 32687.104097974443 -- -- -- -- -- --\n",
       "  -- -- -- -- -- -- -- -- -- -- -- -- -- -- -- --], folded=True, pop_ids=['ENP']),\n",
       " Spectrum([-- 913732.5161039551 461213.3827073664 296158.9050257598\n",
       "  217482.77340000783 173994.38195356374 147774.39358195086\n",
       "  129127.96599932431 114988.23035321226 104180.12081532863\n",
       "  95695.60977215193 88977.53521069842 83787.6010421222 79719.28785472146\n",
       "  76564.2629181205 74456.35978115586 72627.75000836689 71222.08635164368\n",
       "  69710.82907871844 68333.72297508945 67167.27889227011 66240.67432774382\n",
       "  33072.27304579973 -- -- -- -- -- -- -- -- -- -- -- -- -- -- -- -- -- --\n",
       "  -- -- -- --], folded=True, pop_ids=['ENP']),\n",
       " Spectrum([-- 892342.3531972714 450816.57233011717 290992.0301349273\n",
       "  215379.3969536466 172139.67973587292 145420.99684159693\n",
       "  126174.12572425284 112541.23510361483 102640.61280661458\n",
       "  94706.38691261501 88240.57109104443 82834.1172095247 78770.43759288162\n",
       "  75079.52569439594 72609.46944883218 70375.18302546386 68713.8380040822\n",
       "  67567.59118542729 66444.89048905253 65035.687783627276 63883.47348337746\n",
       "  31726.04305600648 -- -- -- -- -- -- -- -- -- -- -- -- -- -- -- -- -- --\n",
       "  -- -- -- --], folded=True, pop_ids=['ENP']),\n",
       " Spectrum([-- 875834.7231477074 441452.5899001308 283296.33477424347\n",
       "  210322.26201926725 168316.92943111627 142416.56831439494\n",
       "  124225.20785925417 110714.85086170361 100334.12625409274\n",
       "  92545.02214364594 86162.48331308388 80604.1346060828 76174.89803965497\n",
       "  73055.45089486353 71002.54783007894 69353.99053157595 68049.66981823179\n",
       "  66950.09857696263 65632.20831644922 64278.06956894791 63136.66637821813\n",
       "  31370.21172230616 -- -- -- -- -- -- -- -- -- -- -- -- -- -- -- -- -- --\n",
       "  -- -- -- --], folded=True, pop_ids=['ENP']),\n",
       " Spectrum([-- 895058.1594908619 452119.9753000215 291454.2142031897\n",
       "  214239.2297073872 171688.29412057903 145516.05446607145\n",
       "  127719.88822062197 114225.78612438602 103644.87663213405\n",
       "  95416.86535069786 89510.31318171683 84545.92698827454 80039.95592857992\n",
       "  76050.78717120414 73551.49379368107 71712.04068374379 70290.56608733346\n",
       "  68698.82877517944 66863.04701395605 65231.864041655535 64465.897531630704\n",
       "  32199.668703364336 -- -- -- -- -- -- -- -- -- -- -- -- -- -- -- -- -- --\n",
       "  -- -- -- --], folded=True, pop_ids=['ENP']),\n",
       " Spectrum([-- 879192.1260775957 448006.82009553944 287300.26559643063\n",
       "  210102.33214870075 168299.1175503318 142636.34805923782\n",
       "  124585.14215239057 111667.08232944825 102097.88083189262\n",
       "  93944.66203720408 87382.76155446659 82170.66224180162 78010.94600217853\n",
       "  74896.39243058753 72684.88800468692 70853.14370169565 69187.48897304498\n",
       "  67681.17653892106 66340.66656518144 65337.737947044305 64877.94123555256\n",
       "  32380.931228634017 -- -- -- -- -- -- -- -- -- -- -- -- -- -- -- -- -- --\n",
       "  -- -- -- --], folded=True, pop_ids=['ENP']),\n",
       " Spectrum([-- 874201.6645956812 440072.8963714641 283957.2248714771\n",
       "  210200.97925610744 168008.35048356524 142017.18540805427\n",
       "  124288.56197596471 110662.01516745346 100397.54573865856 92601.0897175144\n",
       "  86560.93506006488 81430.2489445962 77027.82508028175 73535.4802691685\n",
       "  71544.89589357104 70070.58187112659 68541.62938199648 66876.0211779774\n",
       "  65499.877525279444 64407.32875937614 63879.26162867466 31877.973475239607\n",
       "  -- -- -- -- -- -- -- -- -- -- -- -- -- -- -- -- -- -- -- -- -- --], folded=True, pop_ids=['ENP']),\n",
       " Spectrum([-- 891403.972738087 448022.50848412234 288589.2151649297\n",
       "  212884.63147373413 169850.14995000605 143380.0605548116 124590.1341534812\n",
       "  110884.43534285612 100533.67538565218 92594.47494731797 86688.69771888795\n",
       "  81724.34768701282 77203.23716364818 73660.4739111468 71570.19132072534\n",
       "  70104.31654712712 68715.76475747871 67404.6435668232 66196.45830864835\n",
       "  64780.654487628024 63880.782101023266 31764.081533916044 -- -- -- -- --\n",
       "  -- -- -- -- -- -- -- -- -- -- -- -- -- -- -- -- --], folded=True, pop_ids=['ENP']),\n",
       " Spectrum([-- 906847.6417744628 456003.6914561986 291078.5830481682\n",
       "  214280.54408105923 171838.3339504961 145986.6282663675 127352.37943348158\n",
       "  113821.78598187701 103504.26896163353 95250.89253708353 88760.83343712072\n",
       "  83799.92049349878 79664.14834371522 76086.01365922265 73555.18505504227\n",
       "  71672.35659606743 70282.82088440408 69142.35038501494 67858.27486675337\n",
       "  66754.6880695411 66190.92048978504 32960.72283637844 -- -- -- -- -- -- --\n",
       "  -- -- -- -- -- -- -- -- -- -- -- -- -- -- --], folded=True, pop_ids=['ENP']),\n",
       " Spectrum([-- 885358.1077810264 446235.2374510532 286393.1311424339\n",
       "  209922.7268980695 168818.66743413793 143631.4823409144 124670.35141632013\n",
       "  110224.1064711382 100222.64131340734 92367.70974806012 86149.01497760485\n",
       "  81129.56621817852 77098.23414568065 73945.41929658395 71809.41428622772\n",
       "  69969.54546424688 68380.02364449408 66916.45315772363 65619.8082381712\n",
       "  64571.77438377002 63923.46378218621 31871.021220814506 -- -- -- -- -- --\n",
       "  -- -- -- -- -- -- -- -- -- -- -- -- -- -- -- --], folded=True, pop_ids=['ENP']),\n",
       " Spectrum([-- 882947.5266143794 445246.65957031434 286906.83311319776\n",
       "  212596.7014316122 170293.5177625615 143751.6223580796 125985.66639093577\n",
       "  112516.3746589021 102361.9346995502 94203.58360096492 87562.26189842571\n",
       "  81822.94712905912 77279.90300049662 74159.69133580581 72291.5368981011\n",
       "  70801.62450453026 69489.46411324454 68330.19741834971 66906.95739070536\n",
       "  65383.4411454704 64401.61648474541 31993.54545493738 -- -- -- -- -- -- --\n",
       "  -- -- -- -- -- -- -- -- -- -- -- -- -- -- --], folded=True, pop_ids=['ENP']),\n",
       " Spectrum([-- 859736.4405281647 435989.29295169254 281852.0458517535\n",
       "  207874.1941556315 166398.39627562938 140889.7573431159 122342.78835386461\n",
       "  108917.89929120362 99353.0057561116 91968.4832225502 86028.71049649273\n",
       "  81006.74325631102 76801.65668093713 73415.79820308092 70993.01951916513\n",
       "  69521.36802912828 68466.9763576127 67189.98388856338 65801.99465166316\n",
       "  64426.08706688638 63581.512143513835 31635.85716129267 -- -- -- -- -- --\n",
       "  -- -- -- -- -- -- -- -- -- -- -- -- -- -- -- --], folded=True, pop_ids=['ENP']),\n",
       " Spectrum([-- 876068.7619668276 441000.30113485013 286984.943898485\n",
       "  210685.49782428984 168177.45530407806 141611.56759698578\n",
       "  122993.33453027885 109634.1847306323 100474.86162856888 93046.87108617826\n",
       "  87079.23473502183 82212.59313504139 77744.71404664898 74164.95094342082\n",
       "  71966.24674017658 69880.50734365216 67935.92281305123 66220.93774669014\n",
       "  64733.690887598874 63718.30178710117 63106.409087530425\n",
       "  31518.385259345756 -- -- -- -- -- -- -- -- -- -- -- -- -- -- -- -- -- --\n",
       "  -- -- -- --], folded=True, pop_ids=['ENP']),\n",
       " Spectrum([-- 866553.9526675275 437351.95937120414 279931.37681856053\n",
       "  207935.33611999202 166081.07840703774 139804.45019711734\n",
       "  122134.56537527453 109168.89704223404 99385.1468602487 91322.66689014687\n",
       "  84692.06544152572 79594.17801668627 75661.94072454705 72652.16154085279\n",
       "  70697.85484740723 69072.30727875067 67516.33836865555 66149.56798782377\n",
       "  65100.261979059396 64403.30704274207 64182.54674079601 32016.682631301315\n",
       "  -- -- -- -- -- -- -- -- -- -- -- -- -- -- -- -- -- -- -- -- -- --], folded=True, pop_ids=['ENP']),\n",
       " Spectrum([-- 905754.6554511989 456587.68132881634 295024.303289309\n",
       "  218851.23923619452 174904.66413722272 148085.07385620743\n",
       "  129090.50157658583 115034.33378807505 104385.997064978 96069.0786954373\n",
       "  90015.65037923874 85000.71483705091 80467.63769913543 76633.85684880102\n",
       "  74093.46801486802 72166.29962947406 70279.1046300995 68540.29842300834\n",
       "  67392.39218078958 66675.81047461784 66257.73497292722 33080.11048169747\n",
       "  -- -- -- -- -- -- -- -- -- -- -- -- -- -- -- -- -- -- -- -- -- --], folded=True, pop_ids=['ENP']),\n",
       " Spectrum([-- 890146.4478326765 448260.0950139685 289290.92951420456\n",
       "  213915.53091557501 170876.79576508675 144312.828523901 125004.62882149704\n",
       "  110765.43337960246 100799.0444341272 93181.35542832965 87343.00989939949\n",
       "  82693.71166422367 78832.50301578571 75112.4690173631 72423.33121181163\n",
       "  70490.7040577162 69159.97499372109 67713.9600912858 66227.19731866333\n",
       "  65236.94541851517 64716.017804577095 32330.405216178977 -- -- -- -- -- --\n",
       "  -- -- -- -- -- -- -- -- -- -- -- -- -- -- -- --], folded=True, pop_ids=['ENP']),\n",
       " Spectrum([-- 878288.4528400992 443451.06817034585 284922.7435418846\n",
       "  210432.12456271471 168569.27386463087 142899.84126601348\n",
       "  125142.75667837728 111393.09686399544 101156.45537381976\n",
       "  92944.45872046432 86602.35098811562 81468.34093355006 77451.37141521863\n",
       "  74501.70817851293 72375.78604076288 70397.85436923678 68796.23357365353\n",
       "  67678.11570393723 66625.13040882861 65487.434477763636 64695.43419271573\n",
       "  32232.30596709091 -- -- -- -- -- -- -- -- -- -- -- -- -- -- -- -- -- --\n",
       "  -- -- -- --], folded=True, pop_ids=['ENP']),\n",
       " Spectrum([-- 912030.9589915203 457940.9039420409 295826.7735275888\n",
       "  218594.33997552496 174693.73618088008 147182.56093362166\n",
       "  127563.83375733459 113636.40118338409 103448.05077290683\n",
       "  95312.08292386726 88895.97583092733 83820.78368107168 79594.06119994004\n",
       "  75982.17438940916 73031.76623445797 70699.21066106464 69045.32524467626\n",
       "  67559.6858860323 66596.1807168085 65849.85576915475 65506.933890955625\n",
       "  32696.256153856346 -- -- -- -- -- -- -- -- -- -- -- -- -- -- -- -- -- --\n",
       "  -- -- -- --], folded=True, pop_ids=['ENP']),\n",
       " Spectrum([-- 881423.4937422627 445931.44163637294 287134.37875968806\n",
       "  211523.57432631252 168660.00659989717 143125.8599509465\n",
       "  124665.83869633701 111199.51831371448 101380.51148342139\n",
       "  94043.12755002474 88008.27552625384 83143.24954169808 79124.23666096671\n",
       "  75753.6916678215 73204.34886750607 71035.53122961137 69240.7907255664\n",
       "  67502.58559906011 66245.19983265552 65444.69026120965 65139.79045655919\n",
       "  32478.413560306122 -- -- -- -- -- -- -- -- -- -- -- -- -- -- -- -- -- --\n",
       "  -- -- -- --], folded=True, pop_ids=['ENP']),\n",
       " Spectrum([-- 878227.4559968825 445110.74071287754 286799.1083898483\n",
       "  210743.31657075082 169350.015157565 143206.5435187132 124100.95813892334\n",
       "  109922.3720813216 99270.49449224293 91361.11117578666 85817.7989942731\n",
       "  81485.78089484532 77572.64532845478 74303.15179571112 71886.36045867074\n",
       "  69978.8048996879 68611.13831874733 67773.00347352719 66720.49608063862\n",
       "  65702.26402975223 65167.18550805064 32484.77207157359 -- -- -- -- -- --\n",
       "  -- -- -- -- -- -- -- -- -- -- -- -- -- -- -- --], folded=True, pop_ids=['ENP']),\n",
       " Spectrum([-- 899735.2216191597 456181.6962349763 293591.61615374836\n",
       "  216418.32108227772 172619.24352372772 146160.70581292952\n",
       "  127729.93752755664 114105.31442633795 103898.85047583783\n",
       "  95893.96996759155 89537.30465676254 84426.90277584817 80298.21974063877\n",
       "  76982.36174402002 74550.08470421332 72380.76694098333 70540.86713418418\n",
       "  69184.76951004779 67989.78689971768 67127.06324753293 66802.17370134027\n",
       "  33366.83266008039 -- -- -- -- -- -- -- -- -- -- -- -- -- -- -- -- -- --\n",
       "  -- -- -- --], folded=True, pop_ids=['ENP']),\n",
       " Spectrum([-- 896349.312925301 454984.8759310011 291430.0596093725\n",
       "  214371.40327669788 171509.5075591385 144181.49769799938\n",
       "  125292.46635336969 112176.05114206855 102119.07442220201\n",
       "  94254.07347391565 87960.55105919117 82691.45850967066 78077.9388525443\n",
       "  74591.24419429427 72457.00128275265 70635.95696807567 69090.36091918667\n",
       "  67582.08932287543 66326.1801914524 65285.16252697693 64833.85946620312\n",
       "  32407.332485847714 -- -- -- -- -- -- -- -- -- -- -- -- -- -- -- -- -- --\n",
       "  -- -- -- --], folded=True, pop_ids=['ENP']),\n",
       " Spectrum([-- 873950.7753411763 444777.1510366581 288499.4864945136\n",
       "  212348.99367737852 169787.53319497796 143163.26347226507\n",
       "  124929.32999209568 111745.69377122962 101953.62977360607\n",
       "  94180.03816252472 87797.41254797654 82579.69726342744 77995.04821882406\n",
       "  74371.94363723195 71439.4662831361 69334.84549676636 67709.94405988057\n",
       "  66511.09798074626 65577.01210456391 64963.94051255096 64563.58793829384\n",
       "  32188.93489812803 -- -- -- -- -- -- -- -- -- -- -- -- -- -- -- -- -- --\n",
       "  -- -- -- --], folded=True, pop_ids=['ENP']),\n",
       " Spectrum([-- 880090.735356431 446752.64191910863 287348.4506950476\n",
       "  213043.93440229484 170108.47811431115 143076.12860311946\n",
       "  124940.13303927443 111541.76135954996 101637.31861436673\n",
       "  93684.45559249294 87453.34831936668 82203.52260696152 78040.81932966507\n",
       "  75112.53017041076 73322.13652932575 71811.15263068712 70109.59396584284\n",
       "  68451.90110857849 67000.02369769986 65679.89866102078 64721.583997864116\n",
       "  32225.089838814318 -- -- -- -- -- -- -- -- -- -- -- -- -- -- -- -- -- --\n",
       "  -- -- -- --], folded=True, pop_ids=['ENP']),\n",
       " Spectrum([-- 904725.8258835525 456152.54831574316 296008.49351721973\n",
       "  217222.83590217907 173629.8096589461 147627.3703532494 129482.77395550544\n",
       "  115473.08335905845 104714.18612523687 96069.012200861 89470.18060874028\n",
       "  84057.05463437973 79521.63425487136 75940.61214420524 73383.88262808669\n",
       "  71474.59515007284 70066.16316738816 69053.56179859709 68148.25913082456\n",
       "  67384.00559600897 66954.0363679074 33373.16061643081 -- -- -- -- -- -- --\n",
       "  -- -- -- -- -- -- -- -- -- -- -- -- -- -- --], folded=True, pop_ids=['ENP']),\n",
       " Spectrum([-- 867114.5501945419 440008.5552220971 284722.1437591841\n",
       "  209078.96181970378 166010.05738188312 140265.37634691648\n",
       "  121696.95374048768 107770.20819905895 97739.78546865092 90388.38255970176\n",
       "  85055.60630356177 80759.74230266364 77168.9947155751 73881.23704464355\n",
       "  71066.44254836075 68532.63070663257 66501.12718089865 65161.45701432614\n",
       "  64572.93884501023 63856.80496264702 63297.14415816869 31475.667357170798\n",
       "  -- -- -- -- -- -- -- -- -- -- -- -- -- -- -- -- -- -- -- -- -- --], folded=True, pop_ids=['ENP']),\n",
       " Spectrum([-- 897821.9487130106 449919.500314562 288790.285734356 215005.61257258337\n",
       "  172639.41802739198 146297.1592269386 128495.24824758555 115182.184819583\n",
       "  104979.08671818722 96972.6688386773 91053.03546801778 85855.89570459357\n",
       "  81262.3948577125 77430.881326106 74767.08147450181 72623.54798307866\n",
       "  70840.7621799174 69551.35008761051 68428.63209040125 67289.96755567819\n",
       "  66442.25591700342 33050.70981876401 -- -- -- -- -- -- -- -- -- -- -- --\n",
       "  -- -- -- -- -- -- -- -- -- --], folded=True, pop_ids=['ENP']),\n",
       " Spectrum([-- 886112.7309003681 447982.5341287206 290681.0814597597\n",
       "  215547.78328269097 171665.03285734865 145540.9561067583\n",
       "  127052.41819923797 113027.67019321967 102665.97884473487\n",
       "  94728.99985668543 88384.93547368376 82806.29738217469 78182.36447847719\n",
       "  74753.75152450414 72474.75155728013 70661.84898771414 68837.79751260507\n",
       "  67568.9086624187 66542.7915325325 65727.13685151674 64860.56139105526\n",
       "  32302.401294310486 -- -- -- -- -- -- -- -- -- -- -- -- -- -- -- -- -- --\n",
       "  -- -- -- --], folded=True, pop_ids=['ENP']),\n",
       " Spectrum([-- 892237.1686229786 448257.8680977397 288953.3959872628\n",
       "  213063.8241725236 170296.32543428632 142874.29463520733\n",
       "  124295.54352854169 111574.65150148672 101968.61529015454\n",
       "  94232.06497932701 87746.9020111528 82161.53346992558 77438.3237396311\n",
       "  73601.33114171607 71171.9248760174 69324.87792824482 67866.66850739806\n",
       "  66747.24675162131 65975.80723981795 65343.96547183965 64896.52776320884\n",
       "  32387.141405294005 -- -- -- -- -- -- -- -- -- -- -- -- -- -- -- -- -- --\n",
       "  -- -- -- --], folded=True, pop_ids=['ENP']),\n",
       " Spectrum([-- 859353.628816326 429428.8297683111 278159.2301581977 205967.3630122048\n",
       "  164156.12584157693 138161.42643750686 120332.34986421501\n",
       "  107869.94188061304 98100.33794332806 90056.02801339344 83704.96120261926\n",
       "  78925.49751676833 75048.10382323213 71892.95623063482 69613.13154515563\n",
       "  67681.90814697616 65785.13052132129 64419.65424458869 63384.04472615656\n",
       "  62452.223648955674 62102.10488834586 30924.605086379994 -- -- -- -- -- --\n",
       "  -- -- -- -- -- -- -- -- -- -- -- -- -- -- -- --], folded=True, pop_ids=['ENP']),\n",
       " Spectrum([-- 887598.0601599864 447763.4190453307 286593.12979061843\n",
       "  211462.44492313996 169448.58830466666 143212.10505492694\n",
       "  124347.98505115636 111071.06735045805 101063.69447368021\n",
       "  93130.40561568805 86806.52257529368 81755.6346483043 77680.8666725326\n",
       "  74223.65278424931 71675.11041857305 69792.98194241979 68219.19865846181\n",
       "  66743.45048958168 65331.82165358901 64170.47379560227 63395.083916773445\n",
       "  31581.931544076644 -- -- -- -- -- -- -- -- -- -- -- -- -- -- -- -- -- --\n",
       "  -- -- -- --], folded=True, pop_ids=['ENP']),\n",
       " Spectrum([-- 891301.8100794071 450883.1674601006 292346.77055038686\n",
       "  215983.22561588843 172959.12192919353 146892.86689203398\n",
       "  127942.19293513973 114132.11026272217 103922.48734858341\n",
       "  95811.18793411615 89407.81028464652 84254.56767906772 79936.72514894219\n",
       "  76584.56549604784 74406.09998581833 72687.37700622679 71206.61211572935\n",
       "  69773.43003500666 68120.83523641844 66509.86339546696 65401.543557715835\n",
       "  32558.638802004614 -- -- -- -- -- -- -- -- -- -- -- -- -- -- -- -- -- --\n",
       "  -- -- -- --], folded=True, pop_ids=['ENP']),\n",
       " Spectrum([-- 872998.4353677706 443993.7914935923 284451.4528148652\n",
       "  210110.83140524363 167471.53106113212 141016.53229595147\n",
       "  122902.13356248321 109625.51615577497 99547.7434339081 92021.80171139026\n",
       "  86340.82141440679 81946.5137481528 78104.62966254966 74138.43896123876\n",
       "  70887.20189634315 68570.59566427069 67281.81637071079 66800.97527607925\n",
       "  66429.41860168776 65795.79124068363 65117.521076679914 32430.383797960945\n",
       "  -- -- -- -- -- -- -- -- -- -- -- -- -- -- -- -- -- -- -- -- -- --], folded=True, pop_ids=['ENP']),\n",
       " Spectrum([-- 897477.9323942735 452391.35956655745 290448.89800301887\n",
       "  216048.61057419455 173660.09901818927 147551.26911646427\n",
       "  129131.1140447067 115143.39759241103 104300.4750382562 95868.67793842715\n",
       "  89196.32902388863 83516.09833054479 79081.89735463151 75904.26643676392\n",
       "  73700.58541321091 71817.61532619652 70213.82383999236 68882.69205451729\n",
       "  67571.13380274441 66258.07061773636 65354.97046752084 32566.290697897493\n",
       "  -- -- -- -- -- -- -- -- -- -- -- -- -- -- -- -- -- -- -- -- -- --], folded=True, pop_ids=['ENP']),\n",
       " Spectrum([-- 903326.1697729179 456138.09902081883 294371.9965641509\n",
       "  217234.7445413994 173453.1218404242 146829.78861291453 128186.61565148641\n",
       "  114505.45414221706 104209.63466761554 96079.58530135087 89433.96256108185\n",
       "  84232.02585532368 80003.49525674891 76884.76724454685 74903.69059303314\n",
       "  73372.50662629901 71759.80390205479 70301.74586391528 69080.45858546869\n",
       "  67985.00459494645 67013.86584799906 33295.06537196349 -- -- -- -- -- --\n",
       "  -- -- -- -- -- -- -- -- -- -- -- -- -- -- -- --], folded=True, pop_ids=['ENP']),\n",
       " Spectrum([-- 897313.5608938297 458080.84142490156 294804.63070821244\n",
       "  216050.67403978965 172361.75188017092 145335.49729390253\n",
       "  127760.4614377361 114580.60953376307 104352.01801052075 96157.4653350121\n",
       "  89856.00564466584 85075.09071818259 80802.43917859414 76935.300157759\n",
       "  74121.07078395548 71951.9215772076 69990.52145106153 68580.89006820497\n",
       "  67431.62743150153 66457.86766239032 65878.52710087101 32827.78480967038\n",
       "  -- -- -- -- -- -- -- -- -- -- -- -- -- -- -- -- -- -- -- -- -- --], folded=True, pop_ids=['ENP']),\n",
       " Spectrum([-- 916788.5996048282 463255.03596432327 298742.6550248414\n",
       "  219626.09778669555 176494.01786908178 148521.85410109 129809.76388222433\n",
       "  115824.53022441748 105482.36701818349 97038.77545505206 90265.22885583875\n",
       "  85229.69068046771 81060.97228755454 77665.60245294661 75352.04317826341\n",
       "  73335.38319411498 71678.46387497461 70114.62324831878 68678.86671456568\n",
       "  67803.72635081307 67416.4415191353 33681.67124513838 -- -- -- -- -- -- --\n",
       "  -- -- -- -- -- -- -- -- -- -- -- -- -- -- --], folded=True, pop_ids=['ENP']),\n",
       " Spectrum([-- 888200.9442488711 448014.02393100865 289768.06047300436\n",
       "  214409.94498865324 172447.81008560644 146236.1620994408\n",
       "  126919.20048589377 113092.84506801522 103303.33215173068\n",
       "  96053.62929640179 90561.97724126796 85735.58282316466 81431.9905368665\n",
       "  77542.3265802805 74767.92062180245 72766.84459190432 71299.84685481596\n",
       "  70017.11844309355 68820.40846348413 67659.54709933324 66990.83005616686\n",
       "  33362.49896902334 -- -- -- -- -- -- -- -- -- -- -- -- -- -- -- -- -- --\n",
       "  -- -- -- --], folded=True, pop_ids=['ENP']),\n",
       " Spectrum([-- 902058.8669088632 453555.7160175391 290919.94521641935\n",
       "  214790.8014576747 172248.16537493066 145593.98196990814 126415.3976974145\n",
       "  112491.89176319935 102370.15748921887 94304.15446817035 88120.33721525021\n",
       "  82894.76209093386 78534.9281268217 74903.63743650245 72319.13274343094\n",
       "  70292.27867754614 68935.29407715597 68037.7284545909 67081.31691549123\n",
       "  66049.05671103198 65228.49439957476 32435.991772926645 -- -- -- -- -- --\n",
       "  -- -- -- -- -- -- -- -- -- -- -- -- -- -- -- --], folded=True, pop_ids=['ENP']),\n",
       " Spectrum([-- 846362.7815893935 428273.4686608925 277062.5948186334\n",
       "  204229.48395893368 163143.4277787476 138504.60346798835 120639.4474146637\n",
       "  106938.62391685903 96723.83802248085 88898.15099256982 83466.52820619504\n",
       "  78983.14774868503 75180.87845556712 72178.42485204714 70225.48111233322\n",
       "  68296.88458890114 66421.81854230439 64775.24042139122 63564.78595603222\n",
       "  62601.07062737446 62083.987365196714 30901.30841511411 -- -- -- -- -- --\n",
       "  -- -- -- -- -- -- -- -- -- -- -- -- -- -- -- --], folded=True, pop_ids=['ENP']),\n",
       " Spectrum([-- 872920.6227029164 440433.73907781154 283319.7591480201\n",
       "  208582.24863809068 167351.47628099527 141492.00514790154\n",
       "  123044.20553884418 109541.13422236792 99342.28022590757 91533.3963594679\n",
       "  85651.9715159447 80738.99605766889 77074.7153786037 73900.36879901818\n",
       "  71599.00439048279 69580.20635551034 67922.64300414477 66428.74088189674\n",
       "  65188.39345087942 64176.793694812244 63674.24379683007 31794.135979267103\n",
       "  -- -- -- -- -- -- -- -- -- -- -- -- -- -- -- -- -- -- -- -- -- --], folded=True, pop_ids=['ENP']),\n",
       " Spectrum([-- 911175.4560171985 460960.39387327683 297046.4352672497\n",
       "  218714.27163389418 173923.31889385366 146695.99111263952\n",
       "  128407.54945637975 115467.92735765252 105335.60127805316\n",
       "  96245.71968974045 89314.99869549341 83697.41958436815 79093.43640305095\n",
       "  75254.77346406314 72624.91783913142 70603.81096362138 68972.95197914043\n",
       "  67709.67261191717 66598.7917395318 65927.75767383134 65694.58183727399\n",
       "  32904.50115284883 -- -- -- -- -- -- -- -- -- -- -- -- -- -- -- -- -- --\n",
       "  -- -- -- --], folded=True, pop_ids=['ENP']),\n",
       " Spectrum([-- 869108.8059241129 439754.8647160738 284717.251559025\n",
       "  210911.40397554488 169823.26265349137 143348.3072869373 124944.6099768218\n",
       "  111300.78094825393 101057.55303664868 93154.04766161686 87084.37171540582\n",
       "  82143.36940602004 77813.58489268321 74274.74342346835 71910.69653124653\n",
       "  69905.57577886914 68314.69300333543 67356.50406858088 66543.17958334542\n",
       "  65787.27766875242 65011.83678904798 32416.890863899873 -- -- -- -- -- --\n",
       "  -- -- -- -- -- -- -- -- -- -- -- -- -- -- -- --], folded=True, pop_ids=['ENP']),\n",
       " Spectrum([-- 867780.4052796497 439326.7309618834 281669.0175215822\n",
       "  207174.71160714762 165194.51747122352 139010.06552181055\n",
       "  120567.93748431728 107620.33453852854 98365.2679973322 91282.85829517205\n",
       "  85500.0992313587 80242.50384716586 75659.82255154065 71929.51099485606\n",
       "  69702.56312123507 68221.19199121097 66915.01614019269 65463.980944507384\n",
       "  64149.363597955824 63180.94311136808 62492.38564538613 31152.20030109644\n",
       "  -- -- -- -- -- -- -- -- -- -- -- -- -- -- -- -- -- -- -- -- -- --], folded=True, pop_ids=['ENP']),\n",
       " Spectrum([-- 882895.5042716666 444612.56538220483 287828.52477223816\n",
       "  211017.93424311242 168856.9622851167 141968.67327454142\n",
       "  122717.24759031693 108845.41937216421 99039.24828050104 91809.3999218438\n",
       "  86221.31454868727 81561.36717234005 77584.0619531057 74382.87479808342\n",
       "  72199.72312013464 70330.74349822666 68836.94751982742 67807.62436929706\n",
       "  66722.33766958429 65504.23011509903 64634.091356647135 32185.02914102259\n",
       "  -- -- -- -- -- -- -- -- -- -- -- -- -- -- -- -- -- -- -- -- -- --], folded=True, pop_ids=['ENP']),\n",
       " Spectrum([-- 896133.8259869146 450186.2061445873 289164.1081173245\n",
       "  212763.5644464511 171007.33335501578 143960.40686552055\n",
       "  125148.64937444445 111695.77228954983 101630.81994039725\n",
       "  93719.08056461294 87239.35158444157 82028.88904504175 78196.97340444708\n",
       "  75307.89414772589 73408.35603032673 71757.4972635662 70322.00599182962\n",
       "  68986.57795889948 67735.90296830624 66650.27522169099 66061.32331729468\n",
       "  32928.30700383363 -- -- -- -- -- -- -- -- -- -- -- -- -- -- -- -- -- --\n",
       "  -- -- -- --], folded=True, pop_ids=['ENP']),\n",
       " Spectrum([-- 907371.3508671438 460363.2300185429 294554.64842734946\n",
       "  217033.98277416578 174874.79623870965 147470.3168620291\n",
       "  127333.29706058619 112950.43558981094 102085.07773746822\n",
       "  94131.09340911501 88124.79239622902 83076.25713391592 78938.09315377891\n",
       "  75682.52956655534 73483.24625051327 71534.12533953563 69829.27167567187\n",
       "  68371.02115814103 67093.92568243037 66149.3374014264 65705.77778862802\n",
       "  32841.732600562405 -- -- -- -- -- -- -- -- -- -- -- -- -- -- -- -- -- --\n",
       "  -- -- -- --], folded=True, pop_ids=['ENP']),\n",
       " Spectrum([-- 898830.385129636 452027.25030408317 293051.6902051299 215973.417181956\n",
       "  172251.73023360738 145624.83265359356 127192.3875388948\n",
       "  113304.60848994137 102475.10969365963 94066.87166750105 87902.42340854215\n",
       "  82867.94986892042 78923.77031225852 75868.95829374222 73596.3356701914\n",
       "  71663.71375537722 69958.75120345966 68755.27554055724 67716.94526896434\n",
       "  66774.7344707892 66246.46360654166 33161.02812767461 -- -- -- -- -- -- --\n",
       "  -- -- -- -- -- -- -- -- -- -- -- -- -- -- --], folded=True, pop_ids=['ENP']),\n",
       " Spectrum([-- 904458.0739229306 457616.07940274914 295350.8874886632\n",
       "  218425.17059659163 176274.49814403895 148672.3798535981\n",
       "  129242.70862875902 115319.39816171328 104647.67136715488 96273.562829576\n",
       "  90279.90100020717 85352.03069059571 81233.45298956838 77617.67504075507\n",
       "  74859.35258565046 72629.68562572643 70836.09130754846 69441.76843244232\n",
       "  68160.5815129869 67157.31797024417 66511.73853355942 33216.99956078681 --\n",
       "  -- -- -- -- -- -- -- -- -- -- -- -- -- -- -- -- -- -- -- -- --], folded=True, pop_ids=['ENP']),\n",
       " Spectrum([-- 908522.6609324603 456589.3803162984 293392.5858331142\n",
       "  216855.07381534227 172796.33760266105 145647.15256760162\n",
       "  126867.9159167904 113902.76009610435 104501.31610520842 96605.36568303141\n",
       "  90121.56851565359 84671.27620246614 80310.64235349344 76786.79067111472\n",
       "  74200.63962121357 72077.54449270654 70426.0394554815 69221.7182801476\n",
       "  68013.11791387782 66966.22730004948 66143.43188553411 32922.33321823217\n",
       "  -- -- -- -- -- -- -- -- -- -- -- -- -- -- -- -- -- -- -- -- -- --], folded=True, pop_ids=['ENP']),\n",
       " Spectrum([-- 878397.3436729581 445380.04883133696 285829.24401153455\n",
       "  209152.35860862565 169460.51643393125 144143.00376135082\n",
       "  124958.46438448355 110828.5693531495 100666.22490165796 92895.92547400405\n",
       "  86914.17553831576 82119.54760390343 78095.98042405695 74754.78222869449\n",
       "  72446.02892538304 70589.00117217154 69264.05840126953 68350.63087675037\n",
       "  66981.99147889898 65442.173444573564 64335.34668728103 31978.371490225043\n",
       "  -- -- -- -- -- -- -- -- -- -- -- -- -- -- -- -- -- -- -- -- -- --], folded=True, pop_ids=['ENP']),\n",
       " Spectrum([-- 916921.1046741905 459153.50946177467 295738.9110316042\n",
       "  217766.62801172733 173039.0207051117 145924.17856331656\n",
       "  127992.19039197176 114794.23298892444 104860.64307029489 97151.1377837579\n",
       "  90841.59634756329 85582.55175012948 81241.97142445088 77563.99018226858\n",
       "  74566.80553054545 72079.5807057701 70565.69811020182 69704.29697005822\n",
       "  68777.41024034293 67921.61524332658 67524.60778891468 33676.84142370359\n",
       "  -- -- -- -- -- -- -- -- -- -- -- -- -- -- -- -- -- -- -- -- -- --], folded=True, pop_ids=['ENP']),\n",
       " Spectrum([-- 884085.4820353885 447526.5249102826 287382.35894229985\n",
       "  211936.286259865 169113.70820241605 143477.6536873262 125203.45998472143\n",
       "  111987.93417742412 101712.37692888487 93255.72138750633 86536.25616820689\n",
       "  81163.74877157333 77098.01880480401 73972.18837275967 71648.18892402246\n",
       "  69840.38668376506 68402.84996151493 67311.08195186683 66073.92841988067\n",
       "  64960.112721443926 64424.39691023633 32123.759764603466 -- -- -- -- -- --\n",
       "  -- -- -- -- -- -- -- -- -- -- -- -- -- -- -- --], folded=True, pop_ids=['ENP']),\n",
       " Spectrum([-- 868575.3619519412 435899.0299776166 284700.84569981764\n",
       "  210091.7550802676 168616.7127866969 142841.353642862 123901.2688107852\n",
       "  110465.52696105636 100921.89342290218 93467.7938386765 87601.10288166003\n",
       "  82438.59960639659 78401.09037333232 75059.95513763808 72488.9376453575\n",
       "  70151.70490097575 68435.714801703 67197.83152736476 66070.51295726279\n",
       "  64904.95337745353 63928.09273580243 31792.367148892656 -- -- -- -- -- --\n",
       "  -- -- -- -- -- -- -- -- -- -- -- -- -- -- -- --], folded=True, pop_ids=['ENP']),\n",
       " Spectrum([-- 899874.8986163427 455893.1070719222 292660.19902988925\n",
       "  214059.56142928143 171398.16327931618 145369.86971453216\n",
       "  126711.60952920724 113393.36661274993 103860.79949745587 96328.5596644961\n",
       "  90030.78286607306 84800.65044784664 80459.93319664836 76913.81469366113\n",
       "  74390.32263757291 72348.94005190647 70327.59176427 68598.50952350204\n",
       "  67674.48926267531 67374.45046983835 67293.67090189671 33569.499199116726\n",
       "  -- -- -- -- -- -- -- -- -- -- -- -- -- -- -- -- -- -- -- -- -- --], folded=True, pop_ids=['ENP']),\n",
       " Spectrum([-- 902952.4762073213 453425.7050814245 291964.3504270547\n",
       "  215652.81323169929 174651.23311857393 148098.20847586304\n",
       "  128975.97981931786 114322.32453929754 103199.59920365509\n",
       "  94494.39393548401 88085.11777914828 83453.26656816351 79513.28737142369\n",
       "  75952.45230028249 73123.45528247423 71089.63396751264 69566.20238079251\n",
       "  68380.09937340263 67448.88843664603 66518.0854638164 66089.02621742166\n",
       "  32969.47044536451 -- -- -- -- -- -- -- -- -- -- -- -- -- -- -- -- -- --\n",
       "  -- -- -- --], folded=True, pop_ids=['ENP']),\n",
       " Spectrum([-- 878254.9760482296 442616.0482870612 285876.8935043003\n",
       "  208882.44025647495 166744.67346879203 142064.74186554007\n",
       "  124202.53776612916 111034.15378397742 100991.25365107603\n",
       "  93083.68424756885 86600.83860286359 81287.01862596239 76481.5328162378\n",
       "  72835.41787659685 70936.57314781212 69645.88886783806 68471.77604776893\n",
       "  67298.88524973654 65932.20706584783 64659.557331862445 63654.34717853919\n",
       "  31572.61803768657 -- -- -- -- -- -- -- -- -- -- -- -- -- -- -- -- -- --\n",
       "  -- -- -- --], folded=True, pop_ids=['ENP']),\n",
       " Spectrum([-- 867746.6087969824 437218.13672301284 282861.6350060273\n",
       "  207854.53388649877 165736.31523752253 140007.22995529886\n",
       "  122061.3717151537 108532.1499918542 98596.18644192409 90871.75315804152\n",
       "  85206.08248392827 80961.94529348513 77712.56140498458 75008.24762055841\n",
       "  72777.45622862423 70754.11170425388 68895.72340164093 67459.94275038446\n",
       "  66272.67959638599 65417.44124445956 64870.07360489261 32340.474792822686\n",
       "  -- -- -- -- -- -- -- -- -- -- -- -- -- -- -- -- -- -- -- -- -- --], folded=True, pop_ids=['ENP']),\n",
       " Spectrum([-- 895113.8168517392 453358.64654111187 293028.599353284\n",
       "  216628.66538774467 173320.81533991688 145470.83028204998\n",
       "  126291.78609514402 112964.53060093484 103186.56577565592 95356.6221758808\n",
       "  89383.53756612365 84577.99343644312 80602.07786738551 76886.60242947028\n",
       "  74121.45878045478 71829.5768682884 70065.91615498876 68392.08400317811\n",
       "  67152.13962351858 66010.89173371169 65142.32878333262 32412.02268416979\n",
       "  -- -- -- -- -- -- -- -- -- -- -- -- -- -- -- -- -- -- -- -- -- --], folded=True, pop_ids=['ENP']),\n",
       " Spectrum([-- 902013.4702496182 456455.87059176643 296124.6233536402\n",
       "  218524.8125482749 175048.03473297931 148203.50647883842\n",
       "  129467.67593258742 115362.81128316875 104759.8120454989 96172.27946942048\n",
       "  89851.28110222123 84454.63755947 80090.47262245606 76634.25796710761\n",
       "  74409.23235269033 72491.4663034987 70654.24534060068 69116.60514605154\n",
       "  67855.7077376373 66875.44139241312 66335.20373179117 33182.50072609173 --\n",
       "  -- -- -- -- -- -- -- -- -- -- -- -- -- -- -- -- -- -- -- -- --], folded=True, pop_ids=['ENP']),\n",
       " Spectrum([-- 887023.1942153756 451260.4339113712 290750.97278781113\n",
       "  213409.38911315645 170769.01918270838 145519.23450163842\n",
       "  127036.77351925176 112834.08448868223 102362.61241148517 94102.8482035308\n",
       "  87405.72774156567 81873.05024179904 77612.15357195544 74196.9757437675\n",
       "  72077.79249121714 70354.51153808112 68952.91531382575 67778.55857069333\n",
       "  66725.78268611315 65793.48691510122 65359.002587780014 32553.502399706475\n",
       "  -- -- -- -- -- -- -- -- -- -- -- -- -- -- -- -- -- -- -- -- -- --], folded=True, pop_ids=['ENP']),\n",
       " Spectrum([-- 869371.3631407359 440771.2894105163 283797.1486804146\n",
       "  209072.3440024695 167284.7349065532 142059.2292769681 122619.4721217136\n",
       "  108859.05495247968 99036.56121303547 91546.1734541271 85779.49505840162\n",
       "  80895.87310378655 76625.09187754079 73275.79621790965 70961.81710823337\n",
       "  69100.21057452277 67151.4265989837 65667.93279131387 64869.833793656035\n",
       "  64289.441723207405 64049.09084615457 32018.016186214012 -- -- -- -- -- --\n",
       "  -- -- -- -- -- -- -- -- -- -- -- -- -- -- -- --], folded=True, pop_ids=['ENP']),\n",
       " Spectrum([-- 897168.1636877594 452816.8218318042 290601.3799381297\n",
       "  214376.40530843363 172159.96065588633 146025.2166037203\n",
       "  127862.84727377181 114391.5511542155 103859.45973379338 95412.85451473796\n",
       "  89334.46159189132 84702.17879596096 80768.36802966858 77256.22594959577\n",
       "  74179.96381932718 71789.98389420725 70055.11681149696 68790.70963101192\n",
       "  67479.46699040866 66516.70634472388 66061.4680821091 32988.4046672105 --\n",
       "  -- -- -- -- -- -- -- -- -- -- -- -- -- -- -- -- -- -- -- -- --], folded=True, pop_ids=['ENP']),\n",
       " Spectrum([-- 888468.8051233538 449321.2506597374 287805.84179657645\n",
       "  212464.91158581362 170306.54197422098 144387.51689369578\n",
       "  126402.0770400432 112859.97005975177 102894.73238872126 94922.04336113618\n",
       "  88706.97774425746 83713.01475273642 79389.26019469273 76143.2532018329\n",
       "  74322.12963710632 72863.61778793181 71412.20109609212 70139.85664541593\n",
       "  68773.47476448603 67579.0887128205 67065.31616062197 33550.23893229081 --\n",
       "  -- -- -- -- -- -- -- -- -- -- -- -- -- -- -- -- -- -- -- -- --], folded=True, pop_ids=['ENP']),\n",
       " Spectrum([-- 878925.6415182292 444106.54397124005 284831.53261471563\n",
       "  209561.6160892667 168152.6543030343 143121.1709026078 125258.88804193157\n",
       "  111814.98948187691 101338.66655166108 93064.30326338703 86805.65207217491\n",
       "  81817.10066979205 77622.02226953287 74094.60172965557 71384.41552428697\n",
       "  69299.81535111043 67765.20941017853 66623.31812339678 65568.39878678694\n",
       "  64474.129217438836 63843.23509670367 31858.317845815327 -- -- -- -- -- --\n",
       "  -- -- -- -- -- -- -- -- -- -- -- -- -- -- -- --], folded=True, pop_ids=['ENP']),\n",
       " Spectrum([-- 883424.3833724052 446346.1433811026 288100.487727523\n",
       "  211130.05590131122 168864.86017011214 143234.95604415872\n",
       "  125649.35157370326 112346.93178082474 102071.46052182422\n",
       "  93673.62451720727 87278.79162939932 82182.08654654816 78056.34766720135\n",
       "  74713.26384090881 72160.92756315561 69977.8394168563 68195.51564788008\n",
       "  66822.39008624582 65743.43756828053 64779.09510405547 64303.407003275956\n",
       "  32091.916492125223 -- -- -- -- -- -- -- -- -- -- -- -- -- -- -- -- -- --\n",
       "  -- -- -- --], folded=True, pop_ids=['ENP']),\n",
       " Spectrum([-- 895409.3693745753 452573.0520461186 291980.9258349552\n",
       "  216594.7324725041 174252.0707492794 147145.1451602806 127386.42432471282\n",
       "  113082.19418196024 102617.6550109511 94426.38960355861 88040.36761872083\n",
       "  83231.4007651775 79725.45328465002 76791.75692944786 74501.497198086\n",
       "  72223.79865482729 70655.45489617392 69628.46620659328 68704.11852164226\n",
       "  67575.29379752914 66798.07668631182 33278.41203399505 -- -- -- -- -- --\n",
       "  -- -- -- -- -- -- -- -- -- -- -- -- -- -- -- --], folded=True, pop_ids=['ENP']),\n",
       " Spectrum([-- 868037.1948220576 434259.81311277265 279284.8929727543\n",
       "  206057.8758041991 165619.36266709334 139508.8203572837 121637.38673108543\n",
       "  108253.44726975627 98194.41716363808 90197.18067319642 83807.92854910316\n",
       "  78804.92943063503 74717.2951821789 71304.32523939484 68676.61771101\n",
       "  66673.50959125221 65147.577607874766 63991.566670328815 62690.09435032273\n",
       "  61420.68335738634 60649.35613423761 30287.039851577436 -- -- -- -- -- --\n",
       "  -- -- -- -- -- -- -- -- -- -- -- -- -- -- -- --], folded=True, pop_ids=['ENP']),\n",
       " Spectrum([-- 864006.2847608696 434168.1374150982 281281.96497235296\n",
       "  207960.1091120265 166136.29579887216 138918.3673064492 120155.64875561373\n",
       "  107236.86391396513 97536.45807151737 90190.86806618074 84430.60974850348\n",
       "  79449.24195921262 75550.2722840793 72548.24594826862 70299.63699064322\n",
       "  68164.69802919518 66521.96142549721 65158.147171977136 64100.80412591049\n",
       "  63207.4109778203 62604.86554748098 31225.768706197017 -- -- -- -- -- --\n",
       "  -- -- -- -- -- -- -- -- -- -- -- -- -- -- -- --], folded=True, pop_ids=['ENP']),\n",
       " Spectrum([-- 865195.8644697439 436942.31827125227 279800.59455301537\n",
       "  205948.2323120177 165369.37902742368 140153.34145950084\n",
       "  121818.24652695078 108877.4914335298 99408.32879739952 91353.00595348058\n",
       "  84991.39482357979 79837.68559902118 75607.29276188592 72433.66562416233\n",
       "  70761.30147270054 69291.9675477528 67716.21216577968 66099.44858457732\n",
       "  64657.35967822063 63430.018858430885 62569.38557934491 31176.317459101047\n",
       "  -- -- -- -- -- -- -- -- -- -- -- -- -- -- -- -- -- -- -- -- -- --], folded=True, pop_ids=['ENP']),\n",
       " Spectrum([-- 895305.5281355546 452041.95393780177 293584.24958952266\n",
       "  217833.99343109736 174064.34528184865 146317.4134379178\n",
       "  127338.64656912019 113672.77479388428 103750.06894761095\n",
       "  95551.67368629068 88925.78463307569 83518.10952470465 79558.44234269545\n",
       "  76462.4331045988 73741.04400879644 71362.51061084989 69692.5125453238\n",
       "  68729.16876447378 67940.50114477838 66824.43899603406 65937.86858940363\n",
       "  32832.99198705218 -- -- -- -- -- -- -- -- -- -- -- -- -- -- -- -- -- --\n",
       "  -- -- -- --], folded=True, pop_ids=['ENP']),\n",
       " Spectrum([-- 911140.7939725891 460141.07953416085 298682.83935994084\n",
       "  219930.2640049794 176140.55880652473 148921.91943815647\n",
       "  130004.51797900039 115789.73521910548 105466.0180036282 97550.20751096607\n",
       "  91217.32984842418 85621.02027929506 80732.50505350252 76754.80217362313\n",
       "  74461.84179223966 73097.62447078983 71830.88509498167 70217.48273364507\n",
       "  68839.67508687361 67635.83450120525 66852.14435886029 33262.497136720696\n",
       "  -- -- -- -- -- -- -- -- -- -- -- -- -- -- -- -- -- -- -- -- -- --], folded=True, pop_ids=['ENP']),\n",
       " Spectrum([-- 892769.152671259 449568.8931643323 289704.5285796819\n",
       "  213047.30811227017 169411.80977091318 143109.27509647977\n",
       "  124733.28791576925 111595.17354622217 101957.82058086955\n",
       "  94242.55807461993 88081.95724514755 82999.12675716612 78717.96595079296\n",
       "  75100.38627531675 72585.79112324484 70550.86416581008 69226.75241772165\n",
       "  68121.04016751329 66971.90053066674 65775.63142862401 64743.98815216688\n",
       "  32142.618605707088 -- -- -- -- -- -- -- -- -- -- -- -- -- -- -- -- -- --\n",
       "  -- -- -- --], folded=True, pop_ids=['ENP']),\n",
       " Spectrum([-- 887382.3345708612 445812.6811603508 288285.14679392613\n",
       "  212960.2468372789 170707.99907451545 144220.5695516882 125709.74357441413\n",
       "  112058.90605369222 102358.0816173385 94788.41344708634 88345.32599317051\n",
       "  83042.37796566563 78608.78704592091 75096.94246517462 72716.62864366556\n",
       "  70786.09257160097 69140.4041179308 67866.01895766759 66719.93894779887\n",
       "  65898.58118955938 65695.01876509181 32861.09573876294 -- -- -- -- -- --\n",
       "  -- -- -- -- -- -- -- -- -- -- -- -- -- -- -- --], folded=True, pop_ids=['ENP']),\n",
       " Spectrum([-- 905949.2337113677 456088.7042147472 295410.74798406323\n",
       "  217545.95380479572 172581.8507342604 145051.4938920502 126439.18942659306\n",
       "  113412.26449308962 103604.22232502313 95560.65466182103 88795.23699777795\n",
       "  82955.99994174574 78691.31540164562 75490.11574257194 73297.41656061566\n",
       "  71372.05339815648 69702.32017428736 68545.28571519033 67554.64016709496\n",
       "  66664.40034211832 66101.49518364543 32937.332243566874 -- -- -- -- -- --\n",
       "  -- -- -- -- -- -- -- -- -- -- -- -- -- -- -- --], folded=True, pop_ids=['ENP']),\n",
       " Spectrum([-- 894748.1856369063 454170.82762819 292744.30133344 214023.3824349604\n",
       "  171678.87823602933 146432.01177984988 127707.7673636935\n",
       "  113525.82231138067 103323.99671750088 95547.0606956883 89243.58060560605\n",
       "  83972.90264516749 79579.24895308046 76388.50820361225 74227.8506639488\n",
       "  72110.17408960547 70006.68725260912 68369.62213468963 67148.17259235872\n",
       "  66449.03940427667 66029.28900227463 32883.73751379761 -- -- -- -- -- --\n",
       "  -- -- -- -- -- -- -- -- -- -- -- -- -- -- -- --], folded=True, pop_ids=['ENP']),\n",
       " Spectrum([-- 891637.1497794379 446071.30656648515 290247.4544139049\n",
       "  215066.4996872963 171682.6859099636 145319.67846306306 126943.29893469684\n",
       "  113565.35118707438 103130.25803652225 94794.47647220672 88119.73567628182\n",
       "  82809.58378438819 78459.98413498083 75047.5688081974 72830.64582743734\n",
       "  71081.54661061041 69564.11850313128 68151.41555683028 66751.67434413651\n",
       "  65389.566018299454 64439.51315534424 32012.381091544456 -- -- -- -- -- --\n",
       "  -- -- -- -- -- -- -- -- -- -- -- -- -- -- -- --], folded=True, pop_ids=['ENP']),\n",
       " Spectrum([-- 884899.2550531164 443942.5167949247 287209.3767196031\n",
       "  212024.02043280198 169660.8645238878 143165.6502396305 124890.68137464926\n",
       "  111447.01524062551 100743.50001937321 92447.8066403931 86129.28236962958\n",
       "  81418.71972830559 77331.1271907455 73994.79853507802 71722.51602187393\n",
       "  69993.69512902679 68302.62121099088 66484.45102515316 64818.05449521848\n",
       "  63605.84537834211 63030.33539537751 31466.267789164816 -- -- -- -- -- --\n",
       "  -- -- -- -- -- -- -- -- -- -- -- -- -- -- -- --], folded=True, pop_ids=['ENP']),\n",
       " Spectrum([-- 890335.8054388802 452345.92765844794 293161.72318405786\n",
       "  216799.916943846 173794.90236306898 147968.31404354723 129073.89137715344\n",
       "  114243.53033505881 103043.477519824 95223.15417604693 89246.78068505014\n",
       "  84207.22349334825 79897.42654309815 76323.3202196239 74079.48198375035\n",
       "  72248.85766666681 70412.06265266768 68721.29918008337 67244.20993530999\n",
       "  66085.7598847795 65403.45081682621 32579.571097738375 -- -- -- -- -- --\n",
       "  -- -- -- -- -- -- -- -- -- -- -- -- -- -- -- --], folded=True, pop_ids=['ENP']),\n",
       " Spectrum([-- 872342.1624490917 438291.87897720584 284385.8597268451\n",
       "  211101.43975090905 168259.48620808832 143384.25627715324\n",
       "  125176.82154978847 111040.60801346933 100837.55115169732\n",
       "  93066.70078357858 87046.71746620024 82469.06307108101 78726.81269564126\n",
       "  75262.12418430933 72349.6449014758 70152.16990203995 68647.52019073711\n",
       "  67293.9892261401 66113.15798729366 65171.07928799855 64677.37652201268\n",
       "  32344.648405273165 -- -- -- -- -- -- -- -- -- -- -- -- -- -- -- -- -- --\n",
       "  -- -- -- --], folded=True, pop_ids=['ENP']),\n",
       " Spectrum([-- 913733.6455438823 459362.84038192214 296093.2101689292\n",
       "  218830.89214320842 173934.3704922371 146719.29732895305\n",
       "  128409.61284077357 115193.32720116031 104563.6207681725 95749.50165806361\n",
       "  89010.00596004084 83783.87558560903 79646.46657085746 76172.12612708959\n",
       "  73494.07632453818 71344.6846184124 69342.95207014453 67856.5621673952\n",
       "  66354.22594680345 65226.34082725928 64644.65054745273 32246.698607674465\n",
       "  -- -- -- -- -- -- -- -- -- -- -- -- -- -- -- -- -- -- -- -- -- --], folded=True, pop_ids=['ENP']),\n",
       " Spectrum([-- 890535.687647642 448490.2827485914 292545.5452299294 215531.6302461486\n",
       "  172399.69333104324 145761.41980286728 126523.72848561294\n",
       "  112597.3252018213 102649.06188326902 94856.87144736588 88706.83057889093\n",
       "  83658.73451057255 79631.68707590461 76231.77433038731 73654.54500286284\n",
       "  71599.1480436557 70135.79074111802 68848.55689749218 67782.2312781044\n",
       "  66696.57073351461 66070.0309979714 32951.0224943334 -- -- -- -- -- -- --\n",
       "  -- -- -- -- -- -- -- -- -- -- -- -- -- -- --], folded=True, pop_ids=['ENP']),\n",
       " Spectrum([-- 876544.045240608 443093.9196809895 285876.87369683624\n",
       "  211690.4300228202 168886.58970688676 143944.7771914417 125765.9700518481\n",
       "  111850.58506340759 101774.6785156248 94069.63035678575 87860.71082080173\n",
       "  82198.03388393676 77446.25684504384 73498.66860663824 70838.39266696453\n",
       "  69012.6138295651 67767.43208471393 66956.06630425506 65989.47575042782\n",
       "  65085.66043101995 64330.49261008464 32041.211110954944 -- -- -- -- -- --\n",
       "  -- -- -- -- -- -- -- -- -- -- -- -- -- -- -- --], folded=True, pop_ids=['ENP'])]"
      ]
     },
     "execution_count": 9,
     "metadata": {},
     "output_type": "execute_result"
    }
   ],
   "source": [
    "boots"
   ]
  },
  {
   "cell_type": "code",
   "execution_count": 11,
   "metadata": {},
   "outputs": [
    {
     "name": "stdout",
     "output_type": "stream",
     "text": [
      "Estimated parameter standard deviations from GIM: [2.46958889e-01 2.52587958e-02 5.37026797e-02 1.57259586e-06\n",
      " 1.47430996e+04]\n"
     ]
    }
   ],
   "source": [
    "# nuB, nuF, TB, TF\n",
    "popt = [1.450701165,0.018399839,0.134097375,6.00E-05] \n",
    "uncerts = dadi.Godambe.GIM_uncert(func_ex, pts_l, boots, popt, fs, \n",
    "                                  multinom=True)\n",
    "print('Estimated parameter standard deviations from GIM: {0}'.format(uncerts))"
   ]
  },
  {
   "cell_type": "code",
   "execution_count": 12,
   "metadata": {},
   "outputs": [
    {
     "name": "stdout",
     "output_type": "stream",
     "text": [
      "Factors by which FIM underestimates parameter uncertainties: [  64.7440934  1356.22825533   23.12616512           nan   20.27876714]\n"
     ]
    }
   ],
   "source": [
    "print('Factors by which FIM underestimates parameter uncertainties: {0}'.format(uncerts/uncerts_fim))"
   ]
  },
  {
   "cell_type": "markdown",
   "metadata": {},
   "source": [
    "<div style=\"background-color:darkolivegreen;color:white;padding:20px;\">\n",
    "</div>"
   ]
  },
  {
   "cell_type": "markdown",
   "metadata": {},
   "source": [
    "## 3 Epoch model (TF fixed to 3 generations)"
   ]
  },
  {
   "cell_type": "code",
   "execution_count": 11,
   "metadata": {},
   "outputs": [],
   "source": [
    "def bottleneck(params, ns, pts): \n",
    "    nuB,nuF,TB = params\n",
    "    xx = Numerics.default_grid(pts) # sets up grid\n",
    "    phi = PhiManip.phi_1D(xx) # sets up initial phi for population \n",
    "    phi = Integration.one_pop(phi, xx, TB, nuB)  # bottleneck\n",
    "    phi = Integration.one_pop(phi, xx, 9.2250e-05, nuF) # recovery \n",
    "    fs = Spectrum.from_phi(phi, ns, (xx,)) \n",
    "    return fs\n",
    "param_names=(\"nuB\",\"nuF\",\"TB\",\"TF\")\n",
    "\n",
    "func=bottleneck \n",
    "func_ex = dadi.Numerics.make_extrap_log_func(func)"
   ]
  },
  {
   "cell_type": "code",
   "execution_count": 12,
   "metadata": {},
   "outputs": [
    {
     "name": "stdout",
     "output_type": "stream",
     "text": [
      "Estimated parameter standard deviations from FIM: [1.33017206e-02 1.96057802e-03 3.63413972e-03 7.45010276e+02]\n"
     ]
    }
   ],
   "source": [
    "# nuB, nuF, TB\n",
    "popt = [1.451501866,0.027883941,0.13370468] \n",
    "uncerts_fim = dadi.Godambe.FIM_uncert(func_ex, pts_l, popt, fs, multinom=True)\n",
    "print('Estimated parameter standard deviations from FIM: {0}'.format(uncerts_fim))"
   ]
  },
  {
   "cell_type": "code",
   "execution_count": 13,
   "metadata": {},
   "outputs": [
    {
     "name": "stdout",
     "output_type": "stream",
     "text": [
      "Estimated parameter standard deviations from GIM: [3.97137496e-02 5.62992627e-03 1.63424593e-02 1.39852401e+04]\n"
     ]
    }
   ],
   "source": [
    "uncerts = dadi.Godambe.GIM_uncert(func_ex, pts_l, boots, popt, fs, \n",
    "                                  multinom=True)\n",
    "print('Estimated parameter standard deviations from GIM: {0}'.format(uncerts))"
   ]
  },
  {
   "cell_type": "code",
   "execution_count": 3,
   "metadata": {},
   "outputs": [
    {
     "name": "stdout",
     "output_type": "stream",
     "text": [
      "22613.34514691377 25231.456084668247\n"
     ]
    }
   ],
   "source": [
    "#Parameter range nuB 95%\n",
    "lower = (1.451501866 - (2*3.97137496e-02))*16481.13666\n",
    "upper = (1.451501866 + (2*3.97137496e-02))*16481.13666\n",
    "print(lower, upper)"
   ]
  },
  {
   "cell_type": "code",
   "execution_count": 4,
   "metadata": {},
   "outputs": [
    {
     "name": "stdout",
     "output_type": "stream",
     "text": [
      "273.9838737571889 645.1342107235652\n"
     ]
    }
   ],
   "source": [
    "#Parameter range nuF 95%\n",
    "lower = (0.027883941 - (2*5.62992627e-03))*16481.13666\n",
    "upper = (0.027883941 + (2*5.62992627e-03))*16481.13666\n",
    "print(lower, upper)"
   ]
  },
  {
   "cell_type": "code",
   "execution_count": 6,
   "metadata": {},
   "outputs": [
    {
     "name": "stdout",
     "output_type": "stream",
     "text": [
      "3329.8409859879857 5484.579426658289\n"
     ]
    }
   ],
   "source": [
    "#Parameter range TB 95%\n",
    "lower = (0.13370468 - (2*1.63424593e-02))*2*16481.13666\n",
    "upper = (0.13370468 + (2*1.63424593e-02))*2*16481.13666\n",
    "print(lower, upper)"
   ]
  },
  {
   "cell_type": "markdown",
   "metadata": {},
   "source": [
    "## 3 Epoch model (TF fixed to 2 generations)"
   ]
  },
  {
   "cell_type": "code",
   "execution_count": 14,
   "metadata": {},
   "outputs": [],
   "source": [
    "def bottleneck(params, ns, pts): \n",
    "    nuB,nuF,TB = params\n",
    "    xx = Numerics.default_grid(pts) # sets up grid\n",
    "    phi = PhiManip.phi_1D(xx) # sets up initial phi for population \n",
    "    phi = Integration.one_pop(phi, xx, TB, nuB)  # bottleneck\n",
    "    phi = Integration.one_pop(phi, xx, 6.07e-5, nuF) # recovery \n",
    "    fs = Spectrum.from_phi(phi, ns, (xx,)) \n",
    "    return fs\n",
    "param_names=(\"nuB\",\"nuF\",\"TB\",\"TF\")\n",
    "\n",
    "func=bottleneck \n",
    "func_ex = dadi.Numerics.make_extrap_log_func(func)"
   ]
  },
  {
   "cell_type": "code",
   "execution_count": 15,
   "metadata": {},
   "outputs": [
    {
     "name": "stdout",
     "output_type": "stream",
     "text": [
      "Estimated parameter standard deviations from FIM: [1.37772798e-02 1.37765317e-03 3.68492442e-03 7.41837362e+02]\n"
     ]
    }
   ],
   "source": [
    "# nuB, nuF, TB\n",
    "popt = [1.451388021,0.018582979,0.133540107] \n",
    "uncerts_fim = dadi.Godambe.FIM_uncert(func_ex, pts_l, popt, fs, multinom=True)\n",
    "print('Estimated parameter standard deviations from FIM: {0}'.format(uncerts_fim))"
   ]
  },
  {
   "cell_type": "code",
   "execution_count": 16,
   "metadata": {},
   "outputs": [
    {
     "name": "stdout",
     "output_type": "stream",
     "text": [
      "Estimated parameter standard deviations from GIM: [4.21584625e-02 4.10965952e-03 1.63104356e-02 1.39593588e+04]\n"
     ]
    }
   ],
   "source": [
    "uncerts = dadi.Godambe.GIM_uncert(func_ex, pts_l, boots, popt, fs, \n",
    "                                  multinom=True)\n",
    "print('Estimated parameter standard deviations from GIM: {0}'.format(uncerts))"
   ]
  },
  {
   "cell_type": "code",
   "execution_count": 7,
   "metadata": {},
   "outputs": [
    {
     "name": "stdout",
     "output_type": "stream",
     "text": [
      "22531.271946086556 25310.59713610986\n"
     ]
    }
   ],
   "source": [
    "#Parameter range nuB 95%\n",
    "lower = (1.451388021 - (2*4.21584625e-02))*16481.4193\n",
    "upper = (1.451388021 + (2*4.21584625e-02))*16481.4193\n",
    "print(lower, upper)"
   ]
  },
  {
   "cell_type": "code",
   "execution_count": 8,
   "metadata": {},
   "outputs": [
    {
     "name": "stdout",
     "output_type": "stream",
     "text": [
      "170.80782528338122 441.7399122008082\n"
     ]
    }
   ],
   "source": [
    "#Parameter range nuF 95%\n",
    "lower = (0.018582979 - (2*4.10965952e-03))*16481.4193\n",
    "upper = (0.018582979 + (2*4.10965952e-03))*16481.4193\n",
    "print(lower, upper)"
   ]
  },
  {
   "cell_type": "code",
   "execution_count": 9,
   "metadata": {},
   "outputs": [
    {
     "name": "stdout",
     "output_type": "stream",
     "text": [
      "3326.584481310742 5477.137506024718\n"
     ]
    }
   ],
   "source": [
    "#Parameter range TB 95%\n",
    "lower = (0.133540107 - (2*1.63104356e-02 ))*2*16481.4193\n",
    "upper = (0.133540107 + (2*1.63104356e-02 ))*2*16481.4193\n",
    "print(lower, upper)"
   ]
  },
  {
   "cell_type": "markdown",
   "metadata": {},
   "source": [
    "## 3 Epoch (fixed 10 gen)"
   ]
  },
  {
   "cell_type": "code",
   "execution_count": 6,
   "metadata": {},
   "outputs": [
    {
     "name": "stdout",
     "output_type": "stream",
     "text": [
      "Estimated parameter standard deviations from FIM: [2.61242703e-02 1.04773238e-02 7.26050523e-03 9.94627336e+02]\n",
      "Estimated parameter standard deviations from GIM: [2.08847952e-01 8.32436341e-02 6.60744485e-02 1.73913382e+04]\n"
     ]
    }
   ],
   "source": [
    "def bottleneck(params, ns, pts): \n",
    "    nuB,nuF,TB = params\n",
    "    xx = Numerics.default_grid(pts) # sets up grid\n",
    "    phi = PhiManip.phi_1D(xx) # sets up initial phi for population \n",
    "    phi = Integration.one_pop(phi, xx, TB, nuB)  # bottleneck\n",
    "    phi = Integration.one_pop(phi, xx, 3.03e-4, nuF) # recovery \n",
    "    fs = Spectrum.from_phi(phi, ns, (xx,)) \n",
    "    return fs\n",
    "param_names=(\"nuB\",\"nuF\",\"TB\",\"TF\")\n",
    "\n",
    "func=bottleneck \n",
    "func_ex = dadi.Numerics.make_extrap_log_func(func)\n",
    "# nuB, nuF, TB\n",
    "popt = [1.455660674,0.085491738,0.132615353] \n",
    "uncerts_fim = dadi.Godambe.FIM_uncert(func_ex, pts_l, popt, fs, multinom=True)\n",
    "print('Estimated parameter standard deviations from FIM: {0}'.format(uncerts_fim))\n",
    "uncerts = dadi.Godambe.GIM_uncert(func_ex, pts_l, boots, popt, fs, \n",
    "                                  multinom=True)\n",
    "print('Estimated parameter standard deviations from GIM: {0}'.format(uncerts))"
   ]
  },
  {
   "cell_type": "markdown",
   "metadata": {},
   "source": [
    "## 3Epoch (fixed 100 gen )"
   ]
  },
  {
   "cell_type": "code",
   "execution_count": 7,
   "metadata": {},
   "outputs": [
    {
     "name": "stdout",
     "output_type": "stream",
     "text": [
      "Estimated parameter standard deviations from FIM: [1.94136387e-02 2.57393085e-02 5.02304356e-03 8.41696810e+02]\n",
      "Estimated parameter standard deviations from GIM: [1.03939378e-01 1.35199121e-01 3.45155844e-02 1.59531181e+04]\n"
     ]
    }
   ],
   "source": [
    "def bottleneck(params, ns, pts): \n",
    "    nuB,nuF,TB = params\n",
    "    xx = Numerics.default_grid(pts) # sets up grid\n",
    "    phi = PhiManip.phi_1D(xx) # sets up initial phi for population \n",
    "    phi = Integration.one_pop(phi, xx, TB, nuB)  # bottleneck\n",
    "    phi = Integration.one_pop(phi, xx, 3.03e-3, nuF) # recovery \n",
    "    fs = Spectrum.from_phi(phi, ns, (xx,)) \n",
    "    return fs\n",
    "param_names=(\"nuB\",\"nuF\",\"TB\",\"TF\")\n",
    "\n",
    "func=bottleneck \n",
    "func_ex = dadi.Numerics.make_extrap_log_func(func)\n",
    "# nuB, nuF, TB\n",
    "popt = [1.47157109,0.524052986,0.127161506] \n",
    "uncerts_fim = dadi.Godambe.FIM_uncert(func_ex, pts_l, popt, fs, multinom=True)\n",
    "print('Estimated parameter standard deviations from FIM: {0}'.format(uncerts_fim))\n",
    "uncerts = dadi.Godambe.GIM_uncert(func_ex, pts_l, boots, popt, fs, \n",
    "                                  multinom=True)\n",
    "print('Estimated parameter standard deviations from GIM: {0}'.format(uncerts))"
   ]
  },
  {
   "cell_type": "markdown",
   "metadata": {},
   "source": [
    "## 2 Epoch"
   ]
  },
  {
   "cell_type": "code",
   "execution_count": 9,
   "metadata": {},
   "outputs": [],
   "source": [
    "func = Demographics1D.two_epoch\n",
    "func_ex = dadi.Numerics.make_extrap_log_func(func)"
   ]
  },
  {
   "cell_type": "code",
   "execution_count": 10,
   "metadata": {},
   "outputs": [
    {
     "name": "stdout",
     "output_type": "stream",
     "text": [
      "Estimated parameter standard deviations from GIM: [1.50815105e-02 1.82916228e-02 1.49160033e+04]\n"
     ]
    }
   ],
   "source": [
    "popt = [1.297545096,0.205744551] \n",
    "uncerts = dadi.Godambe.GIM_uncert(func_ex, pts_l, boots, popt, fs, \n",
    "                                  multinom=True)\n",
    "print('Estimated parameter standard deviations from GIM: {0}'.format(uncerts))"
   ]
  },
  {
   "cell_type": "markdown",
   "metadata": {},
   "source": [
    "## 4 Epoch"
   ]
  },
  {
   "cell_type": "code",
   "execution_count": 11,
   "metadata": {},
   "outputs": [],
   "source": [
    "def bottleneck(params, ns, pts):\n",
    "    nuB,nuF,nuC,TB,TF,TC = params\n",
    "    xx = Numerics.default_grid(pts) # sets up grid\n",
    "    phi = PhiManip.phi_1D(xx) # sets up initial phi for population\n",
    "    phi = Integration.one_pop(phi, xx, TB, nuB)  # bottleneck\n",
    "    phi = Integration.one_pop(phi, xx, TF, nuF) # recovery\n",
    "    phi = Integration.one_pop(phi, xx, TC, nuC) # current\n",
    "    fs = Spectrum.from_phi(phi, ns, (xx,))\n",
    "    return fs\n",
    "func=bottleneck\n",
    "func_ex = dadi.Numerics.make_extrap_log_func(func)"
   ]
  },
  {
   "cell_type": "code",
   "execution_count": 19,
   "metadata": {},
   "outputs": [],
   "source": [
    "#nuB,nuF,nuC,TB,TF,TC\n",
    "popt = [0.01189154,0.0012389,0.00929570,0.1020836,0.14685704,0.01684687] \n",
    "#popt = [0.014880194,0.009645169,0.06687843,0.096491051,0.157291653,0.120639541]"
   ]
  },
  {
   "cell_type": "code",
   "execution_count": 20,
   "metadata": {},
   "outputs": [
    {
     "ename": "LinAlgError",
     "evalue": "Singular matrix",
     "output_type": "error",
     "traceback": [
      "\u001b[0;31m---------------------------------------------------------------------------\u001b[0m",
      "\u001b[0;31mLinAlgError\u001b[0m                               Traceback (most recent call last)",
      "\u001b[0;32m<ipython-input-20-6afa62f0643d>\u001b[0m in \u001b[0;36m<module>\u001b[0;34m\u001b[0m\n\u001b[0;32m----> 1\u001b[0;31m \u001b[0muncerts_fim\u001b[0m \u001b[0;34m=\u001b[0m \u001b[0mdadi\u001b[0m\u001b[0;34m.\u001b[0m\u001b[0mGodambe\u001b[0m\u001b[0;34m.\u001b[0m\u001b[0mFIM_uncert\u001b[0m\u001b[0;34m(\u001b[0m\u001b[0mfunc_ex\u001b[0m\u001b[0;34m,\u001b[0m \u001b[0mpts_l\u001b[0m\u001b[0;34m,\u001b[0m \u001b[0mpopt\u001b[0m\u001b[0;34m,\u001b[0m \u001b[0mfs\u001b[0m\u001b[0;34m,\u001b[0m \u001b[0mmultinom\u001b[0m\u001b[0;34m=\u001b[0m\u001b[0;32mTrue\u001b[0m\u001b[0;34m)\u001b[0m\u001b[0;34m\u001b[0m\u001b[0;34m\u001b[0m\u001b[0m\n\u001b[0m\u001b[1;32m      2\u001b[0m \u001b[0mprint\u001b[0m\u001b[0;34m(\u001b[0m\u001b[0;34m'Estimated parameter standard deviations from FIM: {0}'\u001b[0m\u001b[0;34m.\u001b[0m\u001b[0mformat\u001b[0m\u001b[0;34m(\u001b[0m\u001b[0muncerts_fim\u001b[0m\u001b[0;34m)\u001b[0m\u001b[0;34m)\u001b[0m\u001b[0;34m\u001b[0m\u001b[0;34m\u001b[0m\u001b[0m\n",
      "\u001b[0;32m~/.local/lib/python3.6/site-packages/dadi/Godambe.py\u001b[0m in \u001b[0;36mFIM_uncert\u001b[0;34m(func_ex, grid_pts, p0, data, log, multinom, eps)\u001b[0m\n\u001b[1;32m    326\u001b[0m         \u001b[0mfunc_ex\u001b[0m \u001b[0;34m=\u001b[0m \u001b[0;32mlambda\u001b[0m \u001b[0mp\u001b[0m\u001b[0;34m,\u001b[0m \u001b[0mns\u001b[0m\u001b[0;34m,\u001b[0m \u001b[0mpts\u001b[0m\u001b[0;34m:\u001b[0m \u001b[0mp\u001b[0m\u001b[0;34m[\u001b[0m\u001b[0;34m-\u001b[0m\u001b[0;36m1\u001b[0m\u001b[0;34m]\u001b[0m\u001b[0;34m*\u001b[0m\u001b[0mfunc_multi\u001b[0m\u001b[0;34m(\u001b[0m\u001b[0mp\u001b[0m\u001b[0;34m[\u001b[0m\u001b[0;34m:\u001b[0m\u001b[0;34m-\u001b[0m\u001b[0;36m1\u001b[0m\u001b[0;34m]\u001b[0m\u001b[0;34m,\u001b[0m \u001b[0mns\u001b[0m\u001b[0;34m,\u001b[0m \u001b[0mpts\u001b[0m\u001b[0;34m)\u001b[0m\u001b[0;34m\u001b[0m\u001b[0;34m\u001b[0m\u001b[0m\n\u001b[1;32m    327\u001b[0m     \u001b[0mH\u001b[0m \u001b[0;34m=\u001b[0m \u001b[0mget_godambe\u001b[0m\u001b[0;34m(\u001b[0m\u001b[0mfunc_ex\u001b[0m\u001b[0;34m,\u001b[0m \u001b[0mgrid_pts\u001b[0m\u001b[0;34m,\u001b[0m \u001b[0;34m[\u001b[0m\u001b[0;34m]\u001b[0m\u001b[0;34m,\u001b[0m \u001b[0mp0\u001b[0m\u001b[0;34m,\u001b[0m \u001b[0mdata\u001b[0m\u001b[0;34m,\u001b[0m \u001b[0meps\u001b[0m\u001b[0;34m,\u001b[0m \u001b[0mlog\u001b[0m\u001b[0;34m,\u001b[0m \u001b[0mjust_hess\u001b[0m\u001b[0;34m=\u001b[0m\u001b[0;32mTrue\u001b[0m\u001b[0;34m)\u001b[0m\u001b[0;34m\u001b[0m\u001b[0;34m\u001b[0m\u001b[0m\n\u001b[0;32m--> 328\u001b[0;31m     \u001b[0;32mreturn\u001b[0m \u001b[0mnumpy\u001b[0m\u001b[0;34m.\u001b[0m\u001b[0msqrt\u001b[0m\u001b[0;34m(\u001b[0m\u001b[0mnumpy\u001b[0m\u001b[0;34m.\u001b[0m\u001b[0mdiag\u001b[0m\u001b[0;34m(\u001b[0m\u001b[0mnumpy\u001b[0m\u001b[0;34m.\u001b[0m\u001b[0mlinalg\u001b[0m\u001b[0;34m.\u001b[0m\u001b[0minv\u001b[0m\u001b[0;34m(\u001b[0m\u001b[0mH\u001b[0m\u001b[0;34m)\u001b[0m\u001b[0;34m)\u001b[0m\u001b[0;34m)\u001b[0m\u001b[0;34m\u001b[0m\u001b[0;34m\u001b[0m\u001b[0m\n\u001b[0m\u001b[1;32m    329\u001b[0m \u001b[0;34m\u001b[0m\u001b[0m\n\u001b[1;32m    330\u001b[0m def LRT_adjust(func_ex, grid_pts, all_boot, p0, data, nested_indices,\n",
      "\u001b[0;32m<__array_function__ internals>\u001b[0m in \u001b[0;36minv\u001b[0;34m(*args, **kwargs)\u001b[0m\n",
      "\u001b[0;32m~/.local/lib/python3.6/site-packages/numpy/linalg/linalg.py\u001b[0m in \u001b[0;36minv\u001b[0;34m(a)\u001b[0m\n\u001b[1;32m    544\u001b[0m     \u001b[0msignature\u001b[0m \u001b[0;34m=\u001b[0m \u001b[0;34m'D->D'\u001b[0m \u001b[0;32mif\u001b[0m \u001b[0misComplexType\u001b[0m\u001b[0;34m(\u001b[0m\u001b[0mt\u001b[0m\u001b[0;34m)\u001b[0m \u001b[0;32melse\u001b[0m \u001b[0;34m'd->d'\u001b[0m\u001b[0;34m\u001b[0m\u001b[0;34m\u001b[0m\u001b[0m\n\u001b[1;32m    545\u001b[0m     \u001b[0mextobj\u001b[0m \u001b[0;34m=\u001b[0m \u001b[0mget_linalg_error_extobj\u001b[0m\u001b[0;34m(\u001b[0m\u001b[0m_raise_linalgerror_singular\u001b[0m\u001b[0;34m)\u001b[0m\u001b[0;34m\u001b[0m\u001b[0;34m\u001b[0m\u001b[0m\n\u001b[0;32m--> 546\u001b[0;31m     \u001b[0mainv\u001b[0m \u001b[0;34m=\u001b[0m \u001b[0m_umath_linalg\u001b[0m\u001b[0;34m.\u001b[0m\u001b[0minv\u001b[0m\u001b[0;34m(\u001b[0m\u001b[0ma\u001b[0m\u001b[0;34m,\u001b[0m \u001b[0msignature\u001b[0m\u001b[0;34m=\u001b[0m\u001b[0msignature\u001b[0m\u001b[0;34m,\u001b[0m \u001b[0mextobj\u001b[0m\u001b[0;34m=\u001b[0m\u001b[0mextobj\u001b[0m\u001b[0;34m)\u001b[0m\u001b[0;34m\u001b[0m\u001b[0;34m\u001b[0m\u001b[0m\n\u001b[0m\u001b[1;32m    547\u001b[0m     \u001b[0;32mreturn\u001b[0m \u001b[0mwrap\u001b[0m\u001b[0;34m(\u001b[0m\u001b[0mainv\u001b[0m\u001b[0;34m.\u001b[0m\u001b[0mastype\u001b[0m\u001b[0;34m(\u001b[0m\u001b[0mresult_t\u001b[0m\u001b[0;34m,\u001b[0m \u001b[0mcopy\u001b[0m\u001b[0;34m=\u001b[0m\u001b[0;32mFalse\u001b[0m\u001b[0;34m)\u001b[0m\u001b[0;34m)\u001b[0m\u001b[0;34m\u001b[0m\u001b[0;34m\u001b[0m\u001b[0m\n\u001b[1;32m    548\u001b[0m \u001b[0;34m\u001b[0m\u001b[0m\n",
      "\u001b[0;32m~/.local/lib/python3.6/site-packages/numpy/linalg/linalg.py\u001b[0m in \u001b[0;36m_raise_linalgerror_singular\u001b[0;34m(err, flag)\u001b[0m\n\u001b[1;32m     86\u001b[0m \u001b[0;34m\u001b[0m\u001b[0m\n\u001b[1;32m     87\u001b[0m \u001b[0;32mdef\u001b[0m \u001b[0m_raise_linalgerror_singular\u001b[0m\u001b[0;34m(\u001b[0m\u001b[0merr\u001b[0m\u001b[0;34m,\u001b[0m \u001b[0mflag\u001b[0m\u001b[0;34m)\u001b[0m\u001b[0;34m:\u001b[0m\u001b[0;34m\u001b[0m\u001b[0;34m\u001b[0m\u001b[0m\n\u001b[0;32m---> 88\u001b[0;31m     \u001b[0;32mraise\u001b[0m \u001b[0mLinAlgError\u001b[0m\u001b[0;34m(\u001b[0m\u001b[0;34m\"Singular matrix\"\u001b[0m\u001b[0;34m)\u001b[0m\u001b[0;34m\u001b[0m\u001b[0;34m\u001b[0m\u001b[0m\n\u001b[0m\u001b[1;32m     89\u001b[0m \u001b[0;34m\u001b[0m\u001b[0m\n\u001b[1;32m     90\u001b[0m \u001b[0;32mdef\u001b[0m \u001b[0m_raise_linalgerror_nonposdef\u001b[0m\u001b[0;34m(\u001b[0m\u001b[0merr\u001b[0m\u001b[0;34m,\u001b[0m \u001b[0mflag\u001b[0m\u001b[0;34m)\u001b[0m\u001b[0;34m:\u001b[0m\u001b[0;34m\u001b[0m\u001b[0;34m\u001b[0m\u001b[0m\n",
      "\u001b[0;31mLinAlgError\u001b[0m: Singular matrix"
     ]
    }
   ],
   "source": [
    "uncerts_fim = dadi.Godambe.FIM_uncert(func_ex, pts_l, popt, fs, multinom=True)\n",
    "print('Estimated parameter standard deviations from FIM: {0}'.format(uncerts_fim))"
   ]
  },
  {
   "cell_type": "code",
   "execution_count": 18,
   "metadata": {},
   "outputs": [
    {
     "name": "stdout",
     "output_type": "stream",
     "text": [
      "Estimated parameter standard deviations from GIM: [1.16200450e-01 2.36472092e-02 1.43868015e-02 5.54687681e-01\n",
      " 7.74484902e-03 5.81097819e-02 2.77004414e+06]\n"
     ]
    }
   ],
   "source": [
    "uncerts = dadi.Godambe.GIM_uncert(func_ex, pts_l, boots, popt, fs, \n",
    "                                  multinom=True)\n",
    "print('Estimated parameter standard deviations from GIM: {0}'.format(uncerts))"
   ]
  }
 ],
 "metadata": {
  "kernelspec": {
   "display_name": "Python 3",
   "language": "python",
   "name": "python3"
  },
  "language_info": {
   "codemirror_mode": {
    "name": "ipython",
    "version": 3
   },
   "file_extension": ".py",
   "mimetype": "text/x-python",
   "name": "python",
   "nbconvert_exporter": "python",
   "pygments_lexer": "ipython3",
   "version": "3.6.9"
  }
 },
 "nbformat": 4,
 "nbformat_minor": 2
}
