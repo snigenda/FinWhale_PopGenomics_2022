{
 "cells": [
  {
   "cell_type": "code",
   "execution_count": 3,
   "id": "exterior-finish",
   "metadata": {},
   "outputs": [],
   "source": [
    "import matplotlib\n",
    "import scipy \n",
    "import sys\n",
    "import argparse\n",
    "import numpy\n",
    "import dadi\n",
    "from dadi import Numerics, PhiManip, Integration, Spectrum, Misc, Demographics1D\n",
    "import dadi.Godambe"
   ]
  },
  {
   "cell_type": "code",
   "execution_count": 12,
   "id": "fuzzy-homeless",
   "metadata": {},
   "outputs": [],
   "source": [
    "fs= dadi.Spectrum.from_file(\"GOC-30.sfs\")\n",
    "ns = fs.sample_sizes # get sample size from SFS (in haploids)\n",
    "pts_l = [ns[0]+5,ns[0]+15,ns[0]+25] # this should be slightly larger (+5) than sample size and increase by 10\n",
    "maxiter= 100"
   ]
  },
  {
   "cell_type": "code",
   "execution_count": 13,
   "id": "pharmaceutical-vegetarian",
   "metadata": {},
   "outputs": [],
   "source": [
    "#Bootstraping\n",
    "datafile = './SNPs_for_SFS_GOC.recode.vcf.gz'\n",
    "dd = dadi.Misc.make_data_dict_vcf(datafile, './GOC_samples.txt')"
   ]
  },
  {
   "cell_type": "code",
   "execution_count": 14,
   "id": "accredited-budget",
   "metadata": {},
   "outputs": [],
   "source": [
    "# Generate 1000 bootstrap datasets, by dividing the genome into 2 Mb chunks and\n",
    "# resampling from those chunks.\n",
    "Nboot, chunk_size = 1000, 2e6\n",
    "chunks = dadi.Misc.fragment_data_dict(dd, chunk_size)"
   ]
  },
  {
   "cell_type": "code",
   "execution_count": 15,
   "id": "accessory-victor",
   "metadata": {},
   "outputs": [],
   "source": [
    "pop_ids, ns = ['GOC'], [30]\n",
    "boots = dadi.Misc.bootstraps_from_dd_chunks(chunks, Nboot, pop_ids, ns, polarized=False)"
   ]
  },
  {
   "cell_type": "markdown",
   "id": "irish-twins",
   "metadata": {},
   "source": [
    "## 2 Epoch Model"
   ]
  },
  {
   "cell_type": "code",
   "execution_count": 14,
   "id": "brazilian-psychiatry",
   "metadata": {},
   "outputs": [],
   "source": [
    "func2 = Demographics1D.two_epoch\n",
    "func_ex2 = dadi.Numerics.make_extrap_log_func(func)\n",
    "popt2 = [0.354230329,0.227167841] "
   ]
  },
  {
   "cell_type": "code",
   "execution_count": 15,
   "id": "final-salem",
   "metadata": {},
   "outputs": [
    {
     "name": "stdout",
     "output_type": "stream",
     "text": [
      "Estimated parameter standard deviations from FIM: [4.67546275e-03 6.49583676e-03 1.04470115e+04]\n"
     ]
    }
   ],
   "source": [
    "uncerts_fim = dadi.Godambe.FIM_uncert(func_ex, pts_l, popt, fs, multinom=True)\n",
    "print('Estimated parameter standard deviations from FIM: {0}'.format(uncerts_fim))"
   ]
  },
  {
   "cell_type": "code",
   "execution_count": 16,
   "id": "baking-proportion",
   "metadata": {},
   "outputs": [
    {
     "name": "stdout",
     "output_type": "stream",
     "text": [
      "Estimated parameter standard deviations from GIM: [6.37167352e-02 7.88030167e-02 1.39131933e+05]\n"
     ]
    }
   ],
   "source": [
    "uncerts = dadi.Godambe.GIM_uncert(func_ex, pts_l, boots, popt, fs, \n",
    "                                  multinom=True)\n",
    "print('Estimated parameter standard deviations from GIM: {0}'.format(uncerts))"
   ]
  },
  {
   "cell_type": "markdown",
   "id": "tight-recipient",
   "metadata": {},
   "source": [
    "## 3 Epoch Model"
   ]
  },
  {
   "cell_type": "code",
   "execution_count": 8,
   "id": "annoying-richardson",
   "metadata": {},
   "outputs": [],
   "source": [
    "def bottleneck(params, ns, pts):\n",
    "    nuB,nuF,TB,TF = params\n",
    "    xx = Numerics.default_grid(pts) # sets up grid\n",
    "    phi = PhiManip.phi_1D(xx) # sets up initial phi for population\n",
    "    phi = Integration.one_pop(phi, xx, TB, nuB)  # bottleneck\n",
    "    phi = Integration.one_pop(phi, xx, TF, nuF) # recovery\n",
    "    fs = Spectrum.from_phi(phi, ns, (xx,))\n",
    "    return fs\n",
    "func=bottleneck\n",
    "func_ex = dadi.Numerics.make_extrap_log_func(func)"
   ]
  },
  {
   "cell_type": "code",
   "execution_count": 22,
   "id": "celtic-birth",
   "metadata": {},
   "outputs": [
    {
     "name": "stdout",
     "output_type": "stream",
     "text": [
      "Estimated parameter standard deviations from FIM: [3.69178612e-03 8.42828602e-06 2.45267284e-03            nan\n",
      " 4.48814258e+04]\n"
     ]
    }
   ],
   "source": [
    "# nuB, nuF, TB, TF\n",
    "popt = [0.153560308,0.000319266,0.307682258,2.93E-06] \n",
    "uncerts_fim = dadi.Godambe.FIM_uncert(func_ex, pts_l, popt, fs, multinom=True)\n",
    "print('Estimated parameter standard deviations from FIM: {0}'.format(uncerts_fim))"
   ]
  },
  {
   "cell_type": "code",
   "execution_count": 23,
   "id": "approved-destination",
   "metadata": {},
   "outputs": [
    {
     "name": "stdout",
     "output_type": "stream",
     "text": [
      "Estimated parameter standard deviations from GIM: [5.80243398e-01 6.80698167e-04 5.44521879e-01 1.46301389e-05\n",
      " 6.06228963e+06]\n"
     ]
    }
   ],
   "source": [
    "uncerts = dadi.Godambe.GIM_uncert(func_ex, pts_l, boots, popt, fs, \n",
    "                                  multinom=True)\n",
    "print('Estimated parameter standard deviations from GIM: {0}'.format(uncerts))"
   ]
  },
  {
   "cell_type": "markdown",
   "id": "approximate-relevance",
   "metadata": {},
   "source": [
    "## 4 Epoch Model"
   ]
  },
  {
   "cell_type": "code",
   "execution_count": 24,
   "id": "aware-young",
   "metadata": {},
   "outputs": [],
   "source": [
    "def bottleneck(params, ns, pts):\n",
    "    nuB,nuF,nuC,TB,TF,TC = params\n",
    "    xx = Numerics.default_grid(pts) # sets up grid\n",
    "    phi = PhiManip.phi_1D(xx) # sets up initial phi for population\n",
    "    phi = Integration.one_pop(phi, xx, TB, nuB)  # bottleneck\n",
    "    phi = Integration.one_pop(phi, xx, TF, nuF) # recovery\n",
    "    phi = Integration.one_pop(phi, xx, TC, nuC) # current\n",
    "    fs = Spectrum.from_phi(phi, ns, (xx,))\n",
    "    return fs\n",
    "func=bottleneck\n",
    "func_ex = dadi.Numerics.make_extrap_log_func(func)"
   ]
  },
  {
   "cell_type": "code",
   "execution_count": 25,
   "id": "loaded-sarah",
   "metadata": {},
   "outputs": [
    {
     "name": "stdout",
     "output_type": "stream",
     "text": [
      "Estimated parameter standard deviations from FIM: [           nan 2.68031888e-01            nan            nan\n",
      " 6.02046707e-04            nan 7.29685467e+03]\n"
     ]
    }
   ],
   "source": [
    "#nuB,nuF,nuC,TB,TF,TC\n",
    "popt = [0.00062526,3.401000298,0.006608544,0.000247327,0.078570568,0.00041039] \n",
    "uncerts_fim = dadi.Godambe.FIM_uncert(func_ex, pts_l, popt, fs, multinom=True)\n",
    "print('Estimated parameter standard deviations from FIM: {0}'.format(uncerts_fim))"
   ]
  },
  {
   "cell_type": "code",
   "execution_count": 26,
   "id": "dying-divorce",
   "metadata": {},
   "outputs": [
    {
     "name": "stdout",
     "output_type": "stream",
     "text": [
      "Estimated parameter standard deviations from GIM: [8.24529632e-04 3.33637567e-01 2.37470968e-03 2.58735450e-04\n",
      " 4.63534333e-03 1.12584382e-04 8.64509018e+04]\n"
     ]
    }
   ],
   "source": [
    "uncerts = dadi.Godambe.GIM_uncert(func_ex, pts_l, boots, popt, fs, \n",
    "                                  multinom=True)\n",
    "print('Estimated parameter standard deviations from GIM: {0}'.format(uncerts))"
   ]
  },
  {
   "cell_type": "markdown",
   "id": "cellular-flooring",
   "metadata": {},
   "source": [
    "## LL ratio test"
   ]
  },
  {
   "cell_type": "code",
   "execution_count": 9,
   "id": "documented-thanks",
   "metadata": {},
   "outputs": [],
   "source": [
    "#simple model 2 Epoch model\n",
    "func2 = Demographics1D.two_epoch\n",
    "func_ex2 = dadi.Numerics.make_extrap_log_func(func2)\n",
    "popt2 = [0.354230329,0.227167841] \n",
    "model2 = func_ex2(popt2, ns, pts_l)\n",
    "ll_E2 = -1251.262324"
   ]
  },
  {
   "cell_type": "code",
   "execution_count": 10,
   "id": "exotic-cleanup",
   "metadata": {},
   "outputs": [],
   "source": [
    "# 3 EPoch model\n",
    "func=bottleneck\n",
    "func_ex = dadi.Numerics.make_extrap_log_func(func)\n",
    "ll_E3 = -776.6687116"
   ]
  },
  {
   "cell_type": "code",
   "execution_count": 16,
   "id": "weird-quebec",
   "metadata": {},
   "outputs": [
    {
     "ename": "ValueError",
     "evalue": "A population size is 0. Has the model been mis-specified?",
     "output_type": "error",
     "traceback": [
      "\u001b[0;31m---------------------------------------------------------------------------\u001b[0m",
      "\u001b[0;31mValueError\u001b[0m                                Traceback (most recent call last)",
      "\u001b[0;32m<ipython-input-16-1a6356a37810>\u001b[0m in \u001b[0;36m<module>\u001b[0;34m\u001b[0m\n\u001b[1;32m      3\u001b[0m \u001b[0;34m\u001b[0m\u001b[0m\n\u001b[1;32m      4\u001b[0m adj = dadi.Godambe.LRT_adjust(func_ex, pts_l, boots, p_lrt, fs, \n\u001b[0;32m----> 5\u001b[0;31m                               nested_indices=[1,3], multinom=True)\n\u001b[0m\u001b[1;32m      6\u001b[0m \u001b[0mD_adj\u001b[0m \u001b[0;34m=\u001b[0m \u001b[0madj\u001b[0m\u001b[0;34m*\u001b[0m\u001b[0;36m2\u001b[0m\u001b[0;34m*\u001b[0m\u001b[0;34m(\u001b[0m\u001b[0mll_E3\u001b[0m \u001b[0;34m-\u001b[0m \u001b[0mll_E2\u001b[0m\u001b[0;34m)\u001b[0m\u001b[0;34m\u001b[0m\u001b[0;34m\u001b[0m\u001b[0m\n\u001b[1;32m      7\u001b[0m \u001b[0mprint\u001b[0m\u001b[0;34m(\u001b[0m\u001b[0;34m'Adjusted D statistic: {0:.4f}'\u001b[0m\u001b[0;34m.\u001b[0m\u001b[0mformat\u001b[0m\u001b[0;34m(\u001b[0m\u001b[0mD_adj\u001b[0m\u001b[0;34m)\u001b[0m\u001b[0;34m)\u001b[0m\u001b[0;34m\u001b[0m\u001b[0;34m\u001b[0m\u001b[0m\n",
      "\u001b[0;32m~/.local/lib/python3.6/site-packages/dadi/Godambe.py\u001b[0m in \u001b[0;36mLRT_adjust\u001b[0;34m(func_ex, grid_pts, all_boot, p0, data, nested_indices, multinom, eps, boot_theta_adjusts)\u001b[0m\n\u001b[1;32m    376\u001b[0m     \u001b[0mp_nested\u001b[0m \u001b[0;34m=\u001b[0m \u001b[0mnumpy\u001b[0m\u001b[0;34m.\u001b[0m\u001b[0masarray\u001b[0m\u001b[0;34m(\u001b[0m\u001b[0mp0\u001b[0m\u001b[0;34m)\u001b[0m\u001b[0;34m[\u001b[0m\u001b[0mnested_indices\u001b[0m\u001b[0;34m]\u001b[0m\u001b[0;34m\u001b[0m\u001b[0;34m\u001b[0m\u001b[0m\n\u001b[1;32m    377\u001b[0m     GIM, H, J, cU = get_godambe(diff_func, grid_pts, all_boot, p_nested, data, \n\u001b[0;32m--> 378\u001b[0;31m                                 eps, log=False, boot_theta_adjusts=boot_theta_adjusts)\n\u001b[0m\u001b[1;32m    379\u001b[0m \u001b[0;34m\u001b[0m\u001b[0m\n\u001b[1;32m    380\u001b[0m     \u001b[0madjust\u001b[0m \u001b[0;34m=\u001b[0m \u001b[0mlen\u001b[0m\u001b[0;34m(\u001b[0m\u001b[0mnested_indices\u001b[0m\u001b[0;34m)\u001b[0m\u001b[0;34m/\u001b[0m\u001b[0mnumpy\u001b[0m\u001b[0;34m.\u001b[0m\u001b[0mtrace\u001b[0m\u001b[0;34m(\u001b[0m\u001b[0mnumpy\u001b[0m\u001b[0;34m.\u001b[0m\u001b[0mdot\u001b[0m\u001b[0;34m(\u001b[0m\u001b[0mJ\u001b[0m\u001b[0;34m,\u001b[0m \u001b[0mnumpy\u001b[0m\u001b[0;34m.\u001b[0m\u001b[0mlinalg\u001b[0m\u001b[0;34m.\u001b[0m\u001b[0minv\u001b[0m\u001b[0;34m(\u001b[0m\u001b[0mH\u001b[0m\u001b[0;34m)\u001b[0m\u001b[0;34m)\u001b[0m\u001b[0;34m)\u001b[0m\u001b[0;34m\u001b[0m\u001b[0;34m\u001b[0m\u001b[0m\n",
      "\u001b[0;32m~/.local/lib/python3.6/site-packages/dadi/Godambe.py\u001b[0m in \u001b[0;36mget_godambe\u001b[0;34m(func_ex, grid_pts, all_boot, p0, data, eps, log, just_hess, boot_theta_adjusts)\u001b[0m\n\u001b[1;32m    219\u001b[0m     \u001b[0;31m# theta_adjust defaults to 1.\u001b[0m\u001b[0;34m\u001b[0m\u001b[0;34m\u001b[0m\u001b[0;34m\u001b[0m\u001b[0m\n\u001b[1;32m    220\u001b[0m     \u001b[0;32mif\u001b[0m \u001b[0;32mnot\u001b[0m \u001b[0mlog\u001b[0m\u001b[0;34m:\u001b[0m\u001b[0;34m\u001b[0m\u001b[0;34m\u001b[0m\u001b[0m\n\u001b[0;32m--> 221\u001b[0;31m         \u001b[0mhess\u001b[0m \u001b[0;34m=\u001b[0m \u001b[0;34m-\u001b[0m\u001b[0mget_hess\u001b[0m\u001b[0;34m(\u001b[0m\u001b[0mfunc\u001b[0m\u001b[0;34m,\u001b[0m \u001b[0mp0\u001b[0m\u001b[0;34m,\u001b[0m \u001b[0meps\u001b[0m\u001b[0;34m,\u001b[0m \u001b[0margs\u001b[0m\u001b[0;34m=\u001b[0m\u001b[0;34m[\u001b[0m\u001b[0mdata\u001b[0m\u001b[0;34m]\u001b[0m\u001b[0;34m)\u001b[0m\u001b[0;34m\u001b[0m\u001b[0;34m\u001b[0m\u001b[0m\n\u001b[0m\u001b[1;32m    222\u001b[0m     \u001b[0;32melse\u001b[0m\u001b[0;34m:\u001b[0m\u001b[0;34m\u001b[0m\u001b[0;34m\u001b[0m\u001b[0m\n\u001b[1;32m    223\u001b[0m         \u001b[0mhess\u001b[0m \u001b[0;34m=\u001b[0m \u001b[0;34m-\u001b[0m\u001b[0mget_hess\u001b[0m\u001b[0;34m(\u001b[0m\u001b[0mlog_func\u001b[0m\u001b[0;34m,\u001b[0m \u001b[0mnumpy\u001b[0m\u001b[0;34m.\u001b[0m\u001b[0mlog\u001b[0m\u001b[0;34m(\u001b[0m\u001b[0mp0\u001b[0m\u001b[0;34m)\u001b[0m\u001b[0;34m,\u001b[0m \u001b[0meps\u001b[0m\u001b[0;34m,\u001b[0m \u001b[0margs\u001b[0m\u001b[0;34m=\u001b[0m\u001b[0;34m[\u001b[0m\u001b[0mdata\u001b[0m\u001b[0;34m]\u001b[0m\u001b[0;34m)\u001b[0m\u001b[0;34m\u001b[0m\u001b[0;34m\u001b[0m\u001b[0m\n",
      "\u001b[0;32m~/.local/lib/python3.6/site-packages/dadi/Godambe.py\u001b[0m in \u001b[0;36mget_hess\u001b[0;34m(func, p0, eps, args)\u001b[0m\n\u001b[1;32m    121\u001b[0m     \u001b[0;32mfor\u001b[0m \u001b[0mii\u001b[0m \u001b[0;32min\u001b[0m \u001b[0mrange\u001b[0m\u001b[0;34m(\u001b[0m\u001b[0mlen\u001b[0m\u001b[0;34m(\u001b[0m\u001b[0mp0\u001b[0m\u001b[0;34m)\u001b[0m\u001b[0;34m)\u001b[0m\u001b[0;34m:\u001b[0m\u001b[0;34m\u001b[0m\u001b[0;34m\u001b[0m\u001b[0m\n\u001b[1;32m    122\u001b[0m         \u001b[0;32mfor\u001b[0m \u001b[0mjj\u001b[0m \u001b[0;32min\u001b[0m \u001b[0mrange\u001b[0m\u001b[0;34m(\u001b[0m\u001b[0mii\u001b[0m\u001b[0;34m,\u001b[0m \u001b[0mlen\u001b[0m\u001b[0;34m(\u001b[0m\u001b[0mp0\u001b[0m\u001b[0;34m)\u001b[0m\u001b[0;34m)\u001b[0m\u001b[0;34m:\u001b[0m\u001b[0;34m\u001b[0m\u001b[0;34m\u001b[0m\u001b[0m\n\u001b[0;32m--> 123\u001b[0;31m             \u001b[0mhess\u001b[0m\u001b[0;34m[\u001b[0m\u001b[0mii\u001b[0m\u001b[0;34m]\u001b[0m\u001b[0;34m[\u001b[0m\u001b[0mjj\u001b[0m\u001b[0;34m]\u001b[0m \u001b[0;34m=\u001b[0m \u001b[0mhessian_elem\u001b[0m\u001b[0;34m(\u001b[0m\u001b[0mfunc\u001b[0m\u001b[0;34m,\u001b[0m \u001b[0mf0\u001b[0m\u001b[0;34m,\u001b[0m \u001b[0mp0\u001b[0m\u001b[0;34m,\u001b[0m \u001b[0mii\u001b[0m\u001b[0;34m,\u001b[0m \u001b[0mjj\u001b[0m\u001b[0;34m,\u001b[0m \u001b[0meps\u001b[0m\u001b[0;34m,\u001b[0m \u001b[0margs\u001b[0m\u001b[0;34m=\u001b[0m\u001b[0margs\u001b[0m\u001b[0;34m,\u001b[0m \u001b[0mone_sided\u001b[0m\u001b[0;34m=\u001b[0m\u001b[0mone_sided\u001b[0m\u001b[0;34m)\u001b[0m\u001b[0;34m\u001b[0m\u001b[0;34m\u001b[0m\u001b[0m\n\u001b[0m\u001b[1;32m    124\u001b[0m             \u001b[0mhess\u001b[0m\u001b[0;34m[\u001b[0m\u001b[0mjj\u001b[0m\u001b[0;34m]\u001b[0m\u001b[0;34m[\u001b[0m\u001b[0mii\u001b[0m\u001b[0;34m]\u001b[0m \u001b[0;34m=\u001b[0m \u001b[0mhess\u001b[0m\u001b[0;34m[\u001b[0m\u001b[0mii\u001b[0m\u001b[0;34m]\u001b[0m\u001b[0;34m[\u001b[0m\u001b[0mjj\u001b[0m\u001b[0;34m]\u001b[0m\u001b[0;34m\u001b[0m\u001b[0;34m\u001b[0m\u001b[0m\n\u001b[1;32m    125\u001b[0m     \u001b[0;32mreturn\u001b[0m \u001b[0mhess\u001b[0m\u001b[0;34m\u001b[0m\u001b[0;34m\u001b[0m\u001b[0m\n",
      "\u001b[0;32m~/.local/lib/python3.6/site-packages/dadi/Godambe.py\u001b[0m in \u001b[0;36mhessian_elem\u001b[0;34m(func, f0, p0, ii, jj, eps, args, one_sided)\u001b[0m\n\u001b[1;32m     83\u001b[0m             \u001b[0mpwork\u001b[0m\u001b[0;34m[\u001b[0m\u001b[0mii\u001b[0m\u001b[0;34m]\u001b[0m \u001b[0;34m=\u001b[0m \u001b[0mp0\u001b[0m\u001b[0;34m[\u001b[0m\u001b[0mii\u001b[0m\u001b[0;34m]\u001b[0m\u001b[0;34m\u001b[0m\u001b[0;34m\u001b[0m\u001b[0m\n\u001b[1;32m     84\u001b[0m             \u001b[0mpwork\u001b[0m\u001b[0;34m[\u001b[0m\u001b[0mjj\u001b[0m\u001b[0;34m]\u001b[0m \u001b[0;34m=\u001b[0m \u001b[0mp0\u001b[0m\u001b[0;34m[\u001b[0m\u001b[0mjj\u001b[0m\u001b[0;34m]\u001b[0m \u001b[0;34m+\u001b[0m \u001b[0meps\u001b[0m\u001b[0;34m[\u001b[0m\u001b[0mjj\u001b[0m\u001b[0;34m]\u001b[0m\u001b[0;34m\u001b[0m\u001b[0;34m\u001b[0m\u001b[0m\n\u001b[0;32m---> 85\u001b[0;31m             \u001b[0mfmp\u001b[0m \u001b[0;34m=\u001b[0m \u001b[0mfunc\u001b[0m\u001b[0;34m(\u001b[0m\u001b[0mpwork\u001b[0m\u001b[0;34m,\u001b[0m \u001b[0;34m*\u001b[0m\u001b[0margs\u001b[0m\u001b[0;34m)\u001b[0m\u001b[0;34m\u001b[0m\u001b[0;34m\u001b[0m\u001b[0m\n\u001b[0m\u001b[1;32m     86\u001b[0m \u001b[0;34m\u001b[0m\u001b[0m\n\u001b[1;32m     87\u001b[0m             \u001b[0melement\u001b[0m \u001b[0;34m=\u001b[0m \u001b[0;34m(\u001b[0m\u001b[0mfpp\u001b[0m \u001b[0;34m-\u001b[0m \u001b[0mfpm\u001b[0m \u001b[0;34m-\u001b[0m \u001b[0mfmp\u001b[0m \u001b[0;34m+\u001b[0m \u001b[0mf0\u001b[0m\u001b[0;34m)\u001b[0m\u001b[0;34m/\u001b[0m\u001b[0;34m(\u001b[0m\u001b[0meps\u001b[0m\u001b[0;34m[\u001b[0m\u001b[0mii\u001b[0m\u001b[0;34m]\u001b[0m\u001b[0;34m*\u001b[0m\u001b[0meps\u001b[0m\u001b[0;34m[\u001b[0m\u001b[0mjj\u001b[0m\u001b[0;34m]\u001b[0m\u001b[0;34m)\u001b[0m\u001b[0;34m\u001b[0m\u001b[0;34m\u001b[0m\u001b[0m\n",
      "\u001b[0;32m~/.local/lib/python3.6/site-packages/dadi/Godambe.py\u001b[0m in \u001b[0;36mfunc\u001b[0;34m(params, data, theta_adjust)\u001b[0m\n\u001b[1;32m    209\u001b[0m         \u001b[0mkey\u001b[0m \u001b[0;34m=\u001b[0m \u001b[0;34m(\u001b[0m\u001b[0mfunc_ex\u001b[0m\u001b[0;34m.\u001b[0m\u001b[0m__hash__\u001b[0m\u001b[0;34m(\u001b[0m\u001b[0;34m)\u001b[0m\u001b[0;34m,\u001b[0m \u001b[0mtuple\u001b[0m\u001b[0;34m(\u001b[0m\u001b[0mparams\u001b[0m\u001b[0;34m)\u001b[0m\u001b[0;34m,\u001b[0m \u001b[0mtuple\u001b[0m\u001b[0;34m(\u001b[0m\u001b[0mns\u001b[0m\u001b[0;34m)\u001b[0m\u001b[0;34m,\u001b[0m \u001b[0mtuple\u001b[0m\u001b[0;34m(\u001b[0m\u001b[0mgrid_pts\u001b[0m\u001b[0;34m)\u001b[0m\u001b[0;34m)\u001b[0m\u001b[0;34m\u001b[0m\u001b[0;34m\u001b[0m\u001b[0m\n\u001b[1;32m    210\u001b[0m         \u001b[0;32mif\u001b[0m \u001b[0mkey\u001b[0m \u001b[0;32mnot\u001b[0m \u001b[0;32min\u001b[0m \u001b[0mcache\u001b[0m\u001b[0;34m:\u001b[0m\u001b[0;34m\u001b[0m\u001b[0;34m\u001b[0m\u001b[0m\n\u001b[0;32m--> 211\u001b[0;31m             \u001b[0mcache\u001b[0m\u001b[0;34m[\u001b[0m\u001b[0mkey\u001b[0m\u001b[0;34m]\u001b[0m \u001b[0;34m=\u001b[0m \u001b[0mfunc_ex\u001b[0m\u001b[0;34m(\u001b[0m\u001b[0mparams\u001b[0m\u001b[0;34m,\u001b[0m \u001b[0mns\u001b[0m\u001b[0;34m,\u001b[0m \u001b[0mgrid_pts\u001b[0m\u001b[0;34m)\u001b[0m\u001b[0;34m\u001b[0m\u001b[0;34m\u001b[0m\u001b[0m\n\u001b[0m\u001b[1;32m    212\u001b[0m         \u001b[0;31m# theta_adjust deals with bootstraps that need  different thetas\u001b[0m\u001b[0;34m\u001b[0m\u001b[0;34m\u001b[0m\u001b[0;34m\u001b[0m\u001b[0m\n\u001b[1;32m    213\u001b[0m         \u001b[0mfs\u001b[0m \u001b[0;34m=\u001b[0m \u001b[0mtheta_adjust\u001b[0m\u001b[0;34m*\u001b[0m\u001b[0mcache\u001b[0m\u001b[0;34m[\u001b[0m\u001b[0mkey\u001b[0m\u001b[0;34m]\u001b[0m\u001b[0;34m\u001b[0m\u001b[0;34m\u001b[0m\u001b[0m\n",
      "\u001b[0;32m~/.local/lib/python3.6/site-packages/dadi/Godambe.py\u001b[0m in \u001b[0;36mdiff_func\u001b[0;34m(diff_params, ns, grid_pts)\u001b[0m\n\u001b[1;32m    372\u001b[0m         \u001b[0;31m# Use numpy indexing to set relevant parameters\u001b[0m\u001b[0;34m\u001b[0m\u001b[0;34m\u001b[0m\u001b[0;34m\u001b[0m\u001b[0m\n\u001b[1;32m    373\u001b[0m         \u001b[0mfull_params\u001b[0m\u001b[0;34m[\u001b[0m\u001b[0mnested_indices\u001b[0m\u001b[0;34m]\u001b[0m \u001b[0;34m=\u001b[0m \u001b[0mdiff_params\u001b[0m\u001b[0;34m\u001b[0m\u001b[0;34m\u001b[0m\u001b[0m\n\u001b[0;32m--> 374\u001b[0;31m         \u001b[0;32mreturn\u001b[0m \u001b[0mfunc_ex\u001b[0m\u001b[0;34m(\u001b[0m\u001b[0mfull_params\u001b[0m\u001b[0;34m,\u001b[0m \u001b[0mns\u001b[0m\u001b[0;34m,\u001b[0m \u001b[0mgrid_pts\u001b[0m\u001b[0;34m)\u001b[0m\u001b[0;34m\u001b[0m\u001b[0;34m\u001b[0m\u001b[0m\n\u001b[0m\u001b[1;32m    375\u001b[0m \u001b[0;34m\u001b[0m\u001b[0m\n\u001b[1;32m    376\u001b[0m     \u001b[0mp_nested\u001b[0m \u001b[0;34m=\u001b[0m \u001b[0mnumpy\u001b[0m\u001b[0;34m.\u001b[0m\u001b[0masarray\u001b[0m\u001b[0;34m(\u001b[0m\u001b[0mp0\u001b[0m\u001b[0;34m)\u001b[0m\u001b[0;34m[\u001b[0m\u001b[0mnested_indices\u001b[0m\u001b[0;34m]\u001b[0m\u001b[0;34m\u001b[0m\u001b[0;34m\u001b[0m\u001b[0m\n",
      "\u001b[0;32m~/.local/lib/python3.6/site-packages/dadi/Godambe.py\u001b[0m in \u001b[0;36m<lambda>\u001b[0;34m(p, ns, pts)\u001b[0m\n\u001b[1;32m    362\u001b[0m         \u001b[0mtheta_opt\u001b[0m \u001b[0;34m=\u001b[0m \u001b[0mInference\u001b[0m\u001b[0;34m.\u001b[0m\u001b[0moptimal_sfs_scaling\u001b[0m\u001b[0;34m(\u001b[0m\u001b[0mmodel\u001b[0m\u001b[0;34m,\u001b[0m \u001b[0mdata\u001b[0m\u001b[0;34m)\u001b[0m\u001b[0;34m\u001b[0m\u001b[0;34m\u001b[0m\u001b[0m\n\u001b[1;32m    363\u001b[0m         \u001b[0mp0\u001b[0m \u001b[0;34m=\u001b[0m \u001b[0mlist\u001b[0m\u001b[0;34m(\u001b[0m\u001b[0mp0\u001b[0m\u001b[0;34m)\u001b[0m \u001b[0;34m+\u001b[0m \u001b[0;34m[\u001b[0m\u001b[0mtheta_opt\u001b[0m\u001b[0;34m]\u001b[0m\u001b[0;34m\u001b[0m\u001b[0;34m\u001b[0m\u001b[0m\n\u001b[0;32m--> 364\u001b[0;31m         \u001b[0mfunc_ex\u001b[0m \u001b[0;34m=\u001b[0m \u001b[0;32mlambda\u001b[0m \u001b[0mp\u001b[0m\u001b[0;34m,\u001b[0m \u001b[0mns\u001b[0m\u001b[0;34m,\u001b[0m \u001b[0mpts\u001b[0m\u001b[0;34m:\u001b[0m \u001b[0mp\u001b[0m\u001b[0;34m[\u001b[0m\u001b[0;34m-\u001b[0m\u001b[0;36m1\u001b[0m\u001b[0;34m]\u001b[0m\u001b[0;34m*\u001b[0m\u001b[0mfunc_multi\u001b[0m\u001b[0;34m(\u001b[0m\u001b[0mp\u001b[0m\u001b[0;34m[\u001b[0m\u001b[0;34m:\u001b[0m\u001b[0;34m-\u001b[0m\u001b[0;36m1\u001b[0m\u001b[0;34m]\u001b[0m\u001b[0;34m,\u001b[0m \u001b[0mns\u001b[0m\u001b[0;34m,\u001b[0m \u001b[0mpts\u001b[0m\u001b[0;34m)\u001b[0m\u001b[0;34m\u001b[0m\u001b[0;34m\u001b[0m\u001b[0m\n\u001b[0m\u001b[1;32m    365\u001b[0m \u001b[0;34m\u001b[0m\u001b[0m\n\u001b[1;32m    366\u001b[0m     \u001b[0;31m# We only need to take derivatives with respect to the parameters in the\u001b[0m\u001b[0;34m\u001b[0m\u001b[0;34m\u001b[0m\u001b[0;34m\u001b[0m\u001b[0m\n",
      "\u001b[0;32m~/.local/lib/python3.6/site-packages/dadi/Numerics.py\u001b[0m in \u001b[0;36mextrap_func\u001b[0;34m(*args, **kwargs)\u001b[0m\n\u001b[1;32m    372\u001b[0m         \u001b[0;31m#    sys.exit()\u001b[0m\u001b[0;34m\u001b[0m\u001b[0;34m\u001b[0m\u001b[0;34m\u001b[0m\u001b[0m\n\u001b[1;32m    373\u001b[0m \u001b[0;34m\u001b[0m\u001b[0m\n\u001b[0;32m--> 374\u001b[0;31m         \u001b[0mresult_l\u001b[0m \u001b[0;34m=\u001b[0m \u001b[0mlist\u001b[0m\u001b[0;34m(\u001b[0m\u001b[0mmap\u001b[0m\u001b[0;34m(\u001b[0m\u001b[0mpartial_func\u001b[0m\u001b[0;34m,\u001b[0m \u001b[0mpts_l\u001b[0m\u001b[0;34m)\u001b[0m\u001b[0;34m)\u001b[0m\u001b[0;34m\u001b[0m\u001b[0;34m\u001b[0m\u001b[0m\n\u001b[0m\u001b[1;32m    375\u001b[0m         \u001b[0;32mif\u001b[0m \u001b[0mno_extrap\u001b[0m\u001b[0;34m:\u001b[0m\u001b[0;34m\u001b[0m\u001b[0;34m\u001b[0m\u001b[0m\n\u001b[1;32m    376\u001b[0m             \u001b[0;32mreturn\u001b[0m \u001b[0mresult_l\u001b[0m\u001b[0;34m\u001b[0m\u001b[0;34m\u001b[0m\u001b[0m\n",
      "\u001b[0;32m<ipython-input-8-ed8bc5e69334>\u001b[0m in \u001b[0;36mbottleneck\u001b[0;34m(params, ns, pts)\u001b[0m\n\u001b[1;32m      4\u001b[0m     \u001b[0mphi\u001b[0m \u001b[0;34m=\u001b[0m \u001b[0mPhiManip\u001b[0m\u001b[0;34m.\u001b[0m\u001b[0mphi_1D\u001b[0m\u001b[0;34m(\u001b[0m\u001b[0mxx\u001b[0m\u001b[0;34m)\u001b[0m \u001b[0;31m# sets up initial phi for population\u001b[0m\u001b[0;34m\u001b[0m\u001b[0;34m\u001b[0m\u001b[0m\n\u001b[1;32m      5\u001b[0m     \u001b[0mphi\u001b[0m \u001b[0;34m=\u001b[0m \u001b[0mIntegration\u001b[0m\u001b[0;34m.\u001b[0m\u001b[0mone_pop\u001b[0m\u001b[0;34m(\u001b[0m\u001b[0mphi\u001b[0m\u001b[0;34m,\u001b[0m \u001b[0mxx\u001b[0m\u001b[0;34m,\u001b[0m \u001b[0mTB\u001b[0m\u001b[0;34m,\u001b[0m \u001b[0mnuB\u001b[0m\u001b[0;34m)\u001b[0m  \u001b[0;31m# bottleneck\u001b[0m\u001b[0;34m\u001b[0m\u001b[0;34m\u001b[0m\u001b[0m\n\u001b[0;32m----> 6\u001b[0;31m     \u001b[0mphi\u001b[0m \u001b[0;34m=\u001b[0m \u001b[0mIntegration\u001b[0m\u001b[0;34m.\u001b[0m\u001b[0mone_pop\u001b[0m\u001b[0;34m(\u001b[0m\u001b[0mphi\u001b[0m\u001b[0;34m,\u001b[0m \u001b[0mxx\u001b[0m\u001b[0;34m,\u001b[0m \u001b[0mTF\u001b[0m\u001b[0;34m,\u001b[0m \u001b[0mnuF\u001b[0m\u001b[0;34m)\u001b[0m \u001b[0;31m# recovery\u001b[0m\u001b[0;34m\u001b[0m\u001b[0;34m\u001b[0m\u001b[0m\n\u001b[0m\u001b[1;32m      7\u001b[0m     \u001b[0mfs\u001b[0m \u001b[0;34m=\u001b[0m \u001b[0mSpectrum\u001b[0m\u001b[0;34m.\u001b[0m\u001b[0mfrom_phi\u001b[0m\u001b[0;34m(\u001b[0m\u001b[0mphi\u001b[0m\u001b[0;34m,\u001b[0m \u001b[0mns\u001b[0m\u001b[0;34m,\u001b[0m \u001b[0;34m(\u001b[0m\u001b[0mxx\u001b[0m\u001b[0;34m,\u001b[0m\u001b[0;34m)\u001b[0m\u001b[0;34m)\u001b[0m\u001b[0;34m\u001b[0m\u001b[0;34m\u001b[0m\u001b[0m\n\u001b[1;32m      8\u001b[0m     \u001b[0;32mreturn\u001b[0m \u001b[0mfs\u001b[0m\u001b[0;34m\u001b[0m\u001b[0;34m\u001b[0m\u001b[0m\n",
      "\u001b[0;32m~/.local/lib/python3.6/site-packages/dadi/Integration.py\u001b[0m in \u001b[0;36mone_pop\u001b[0;34m(phi, xx, T, nu, gamma, h, theta0, initial_t, frozen, beta)\u001b[0m\n\u001b[1;32m    213\u001b[0m     \u001b[0;32mif\u001b[0m \u001b[0mnumpy\u001b[0m\u001b[0;34m.\u001b[0m\u001b[0mall\u001b[0m\u001b[0;34m(\u001b[0m\u001b[0;34m[\u001b[0m\u001b[0mnumpy\u001b[0m\u001b[0;34m.\u001b[0m\u001b[0misscalar\u001b[0m\u001b[0;34m(\u001b[0m\u001b[0mvar\u001b[0m\u001b[0;34m)\u001b[0m \u001b[0;32mfor\u001b[0m \u001b[0mvar\u001b[0m \u001b[0;32min\u001b[0m \u001b[0mvars_to_check\u001b[0m\u001b[0;34m]\u001b[0m\u001b[0;34m)\u001b[0m\u001b[0;34m:\u001b[0m\u001b[0;34m\u001b[0m\u001b[0;34m\u001b[0m\u001b[0m\n\u001b[1;32m    214\u001b[0m         return _one_pop_const_params(phi, xx, T, nu, gamma, h, theta0, \n\u001b[0;32m--> 215\u001b[0;31m                                      initial_t, beta)\n\u001b[0m\u001b[1;32m    216\u001b[0m \u001b[0;34m\u001b[0m\u001b[0m\n\u001b[1;32m    217\u001b[0m     \u001b[0mnu_f\u001b[0m \u001b[0;34m=\u001b[0m \u001b[0mMisc\u001b[0m\u001b[0;34m.\u001b[0m\u001b[0mensure_1arg_func\u001b[0m\u001b[0;34m(\u001b[0m\u001b[0mnu\u001b[0m\u001b[0;34m)\u001b[0m\u001b[0;34m\u001b[0m\u001b[0;34m\u001b[0m\u001b[0m\n",
      "\u001b[0;32m~/.local/lib/python3.6/site-packages/dadi/Integration.py\u001b[0m in \u001b[0;36m_one_pop_const_params\u001b[0;34m(phi, xx, T, nu, gamma, h, theta0, initial_t, beta)\u001b[0m\n\u001b[1;32m    817\u001b[0m                          'is < 0. Has the model been mis-specified?')\n\u001b[1;32m    818\u001b[0m     \u001b[0;32mif\u001b[0m \u001b[0mnumpy\u001b[0m\u001b[0;34m.\u001b[0m\u001b[0many\u001b[0m\u001b[0;34m(\u001b[0m\u001b[0mnumpy\u001b[0m\u001b[0;34m.\u001b[0m\u001b[0mequal\u001b[0m\u001b[0;34m(\u001b[0m\u001b[0;34m[\u001b[0m\u001b[0mnu\u001b[0m\u001b[0;34m]\u001b[0m\u001b[0;34m,\u001b[0m \u001b[0;36m0\u001b[0m\u001b[0;34m)\u001b[0m\u001b[0;34m)\u001b[0m\u001b[0;34m:\u001b[0m\u001b[0;34m\u001b[0m\u001b[0;34m\u001b[0m\u001b[0m\n\u001b[0;32m--> 819\u001b[0;31m         raise ValueError('A population size is 0. Has the model been '\n\u001b[0m\u001b[1;32m    820\u001b[0m                          'mis-specified?')\n\u001b[1;32m    821\u001b[0m \u001b[0;34m\u001b[0m\u001b[0m\n",
      "\u001b[0;31mValueError\u001b[0m: A population size is 0. Has the model been mis-specified?"
     ]
    }
   ],
   "source": [
    "# 2 Epoch vs 3Epoch\n",
    "p_lrt = [0.354230329,0,0.227167841,0]\n",
    "\n",
    "adj = dadi.Godambe.LRT_adjust(func_ex, pts_l, boots, p_lrt, fs, \n",
    "                              nested_indices=[1,3], multinom=True)\n",
    "D_adj = adj*2*(ll_E3 - ll_E2)\n",
    "print('Adjusted D statistic: {0:.4f}'.format(D_adj))\n",
    "pval = dadi.Godambe.sum_chi2_ppf(D_adj, weights=(0.5,0.5))\n",
    "print('p-value for rejecting no-migration model: {0:.4f}'.format(pval))"
   ]
  }
 ],
 "metadata": {
  "kernelspec": {
   "display_name": "Python 3",
   "language": "python",
   "name": "python3"
  },
  "language_info": {
   "codemirror_mode": {
    "name": "ipython",
    "version": 3
   },
   "file_extension": ".py",
   "mimetype": "text/x-python",
   "name": "python",
   "nbconvert_exporter": "python",
   "pygments_lexer": "ipython3",
   "version": "3.6.9"
  }
 },
 "nbformat": 4,
 "nbformat_minor": 5
}
